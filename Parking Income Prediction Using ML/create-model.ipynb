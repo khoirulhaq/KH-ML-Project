{
 "cells": [
  {
   "cell_type": "code",
   "execution_count": 23,
   "metadata": {},
   "outputs": [],
   "source": [
    "import pandas as pd\n",
    "import numpy as np\n",
    "import tensorflow as tf\n",
    "from tensorflow import keras\n",
    "from sklearn.model_selection import train_test_split\n",
    "from sklearn.preprocessing import LabelEncoder, StandardScaler\n",
    "from sklearn.metrics import mean_squared_error, mean_absolute_error, r2_score\n",
    "import matplotlib.pyplot as plt\n",
    "import joblib"
   ]
  },
  {
   "cell_type": "code",
   "execution_count": 24,
   "metadata": {},
   "outputs": [
    {
     "data": {
      "text/html": [
       "<div>\n",
       "<style scoped>\n",
       "    .dataframe tbody tr th:only-of-type {\n",
       "        vertical-align: middle;\n",
       "    }\n",
       "\n",
       "    .dataframe tbody tr th {\n",
       "        vertical-align: top;\n",
       "    }\n",
       "\n",
       "    .dataframe thead th {\n",
       "        text-align: right;\n",
       "    }\n",
       "</style>\n",
       "<table border=\"1\" class=\"dataframe\">\n",
       "  <thead>\n",
       "    <tr style=\"text-align: right;\">\n",
       "      <th></th>\n",
       "      <th>Vehicle Type</th>\n",
       "      <th>Parking Slip Type</th>\n",
       "      <th>Total Income</th>\n",
       "      <th>Exit_date</th>\n",
       "      <th>Entry_date</th>\n",
       "      <th>Duration</th>\n",
       "    </tr>\n",
       "  </thead>\n",
       "  <tbody>\n",
       "    <tr>\n",
       "      <th>0</th>\n",
       "      <td>MOTOR</td>\n",
       "      <td>CASUAL</td>\n",
       "      <td>1</td>\n",
       "      <td>2022-10-09</td>\n",
       "      <td>2022-10-09</td>\n",
       "      <td>0.016667</td>\n",
       "    </tr>\n",
       "    <tr>\n",
       "      <th>1</th>\n",
       "      <td>MOTOR</td>\n",
       "      <td>CASUAL</td>\n",
       "      <td>1</td>\n",
       "      <td>2022-10-09</td>\n",
       "      <td>2022-10-09</td>\n",
       "      <td>0.050000</td>\n",
       "    </tr>\n",
       "    <tr>\n",
       "      <th>2</th>\n",
       "      <td>MOTOR</td>\n",
       "      <td>CASUAL</td>\n",
       "      <td>1</td>\n",
       "      <td>2022-10-09</td>\n",
       "      <td>2022-10-09</td>\n",
       "      <td>0.016667</td>\n",
       "    </tr>\n",
       "    <tr>\n",
       "      <th>3</th>\n",
       "      <td>MOTOR</td>\n",
       "      <td>CASUAL</td>\n",
       "      <td>1</td>\n",
       "      <td>2022-10-09</td>\n",
       "      <td>2022-10-09</td>\n",
       "      <td>0.000000</td>\n",
       "    </tr>\n",
       "    <tr>\n",
       "      <th>4</th>\n",
       "      <td>MOBIL</td>\n",
       "      <td>CASUAL</td>\n",
       "      <td>0</td>\n",
       "      <td>2022-10-10</td>\n",
       "      <td>2022-10-10</td>\n",
       "      <td>0.033333</td>\n",
       "    </tr>\n",
       "  </tbody>\n",
       "</table>\n",
       "</div>"
      ],
      "text/plain": [
       "  Vehicle Type Parking Slip Type  Total Income   Exit_date  Entry_date  \\\n",
       "0        MOTOR            CASUAL             1  2022-10-09  2022-10-09   \n",
       "1        MOTOR            CASUAL             1  2022-10-09  2022-10-09   \n",
       "2        MOTOR            CASUAL             1  2022-10-09  2022-10-09   \n",
       "3        MOTOR            CASUAL             1  2022-10-09  2022-10-09   \n",
       "4        MOBIL            CASUAL             0  2022-10-10  2022-10-10   \n",
       "\n",
       "   Duration  \n",
       "0  0.016667  \n",
       "1  0.050000  \n",
       "2  0.016667  \n",
       "3  0.000000  \n",
       "4  0.033333  "
      ]
     },
     "execution_count": 24,
     "metadata": {},
     "output_type": "execute_result"
    }
   ],
   "source": [
    "df = pd.read_csv(r\"train_data.csv\")\n",
    "df.head()"
   ]
  },
  {
   "cell_type": "code",
   "execution_count": 26,
   "metadata": {},
   "outputs": [
    {
     "name": "stdout",
     "output_type": "stream",
     "text": [
      "43448\n"
     ]
    }
   ],
   "source": [
    "data = df\n",
    "# Pisahkan fitur dan label\n",
    "X = data[['Vehicle Type', 'Parking Slip Type', 'Duration']]\n",
    "y = data['Total Income']\n",
    "print(len(data))"
   ]
  },
  {
   "cell_type": "code",
   "execution_count": 27,
   "metadata": {},
   "outputs": [
    {
     "name": "stderr",
     "output_type": "stream",
     "text": [
      "C:\\Users\\khoir\\AppData\\Local\\Temp\\ipykernel_7756\\39835619.py:3: SettingWithCopyWarning: \n",
      "A value is trying to be set on a copy of a slice from a DataFrame.\n",
      "Try using .loc[row_indexer,col_indexer] = value instead\n",
      "\n",
      "See the caveats in the documentation: https://pandas.pydata.org/pandas-docs/stable/user_guide/indexing.html#returning-a-view-versus-a-copy\n",
      "  X['Vehicle Type'] = label_encoder_vehicle.fit_transform(X['Vehicle Type'])\n",
      "C:\\Users\\khoir\\AppData\\Local\\Temp\\ipykernel_7756\\39835619.py:6: SettingWithCopyWarning: \n",
      "A value is trying to be set on a copy of a slice from a DataFrame.\n",
      "Try using .loc[row_indexer,col_indexer] = value instead\n",
      "\n",
      "See the caveats in the documentation: https://pandas.pydata.org/pandas-docs/stable/user_guide/indexing.html#returning-a-view-versus-a-copy\n",
      "  X['Parking Slip Type'] = label_encoder_parking.fit_transform(X['Parking Slip Type'])\n",
      "C:\\Users\\khoir\\AppData\\Local\\Temp\\ipykernel_7756\\39835619.py:10: SettingWithCopyWarning: \n",
      "A value is trying to be set on a copy of a slice from a DataFrame.\n",
      "Try using .loc[row_indexer,col_indexer] = value instead\n",
      "\n",
      "See the caveats in the documentation: https://pandas.pydata.org/pandas-docs/stable/user_guide/indexing.html#returning-a-view-versus-a-copy\n",
      "  X['Duration'] = scaler.fit_transform(X[['Duration']])\n"
     ]
    }
   ],
   "source": [
    "# Encode kolom kategorikal menggunakan LabelEncoder\n",
    "label_encoder_vehicle = LabelEncoder()\n",
    "X['Vehicle Type'] = label_encoder_vehicle.fit_transform(X['Vehicle Type'])\n",
    "\n",
    "label_encoder_parking = LabelEncoder()\n",
    "X['Parking Slip Type'] = label_encoder_parking.fit_transform(X['Parking Slip Type'])\n",
    "\n",
    "# Normalisasi fitur numerik\n",
    "scaler = StandardScaler()\n",
    "X['Duration'] = scaler.fit_transform(X[['Duration']])\n",
    "\n",
    "# Bagi data menjadi data pelatihan, data validasi, dan data pengujian\n",
    "X_train, X_test, y_train, y_test = train_test_split(X, y, test_size=0.2, random_state=42)"
   ]
  },
  {
   "cell_type": "code",
   "execution_count": 28,
   "metadata": {},
   "outputs": [
    {
     "data": {
      "text/plain": [
       "['scaler_Dur-park1.pkl']"
      ]
     },
     "execution_count": 28,
     "metadata": {},
     "output_type": "execute_result"
    }
   ],
   "source": [
    "joblib.dump(label_encoder_vehicle, 'label_encoder_VH1.pkl')\n",
    "joblib.dump(label_encoder_parking, 'label_encoder_PK1.pkl')\n",
    "\n",
    "joblib.dump(scaler, 'scaler_Dur-park1.pkl')"
   ]
  },
  {
   "cell_type": "code",
   "execution_count": 29,
   "metadata": {},
   "outputs": [],
   "source": [
    "# Membuat model Neural Network\n",
    "model = keras.Sequential([\n",
    "    keras.layers.Dense(64, activation='relu', input_shape=(X_train.shape[1],)),\n",
    "    keras.layers.Dense(32, activation='relu'),\n",
    "    keras.layers.Dense(16, activation='relu'),\n",
    "    keras.layers.Dense(16, activation='relu'),\n",
    "    \n",
    "    keras.layers.Dense(1)  # Output layer\n",
    "])\n"
   ]
  },
  {
   "cell_type": "code",
   "execution_count": 30,
   "metadata": {},
   "outputs": [],
   "source": [
    "# Kompilasi model\n",
    "model.compile(optimizer='adam', loss='mean_squared_error')"
   ]
  },
  {
   "cell_type": "code",
   "execution_count": 32,
   "metadata": {},
   "outputs": [
    {
     "name": "stdout",
     "output_type": "stream",
     "text": [
      "Epoch 1/50\n",
      "1449/1449 [==============================] - 3s 2ms/step - loss: 19507558.0000 - val_loss: 10054240.0000\n",
      "Epoch 2/50\n",
      "1449/1449 [==============================] - 3s 2ms/step - loss: 19552246.0000 - val_loss: 10055261.0000\n",
      "Epoch 3/50\n",
      "1449/1449 [==============================] - 3s 2ms/step - loss: 19315838.0000 - val_loss: 10057768.0000\n",
      "Epoch 4/50\n",
      "1449/1449 [==============================] - 3s 2ms/step - loss: 19396826.0000 - val_loss: 9963718.0000\n",
      "Epoch 5/50\n",
      "1449/1449 [==============================] - 3s 2ms/step - loss: 19363576.0000 - val_loss: 10250991.0000\n",
      "Epoch 6/50\n",
      "1449/1449 [==============================] - 3s 2ms/step - loss: 19310262.0000 - val_loss: 10411512.0000\n",
      "Epoch 7/50\n",
      "1449/1449 [==============================] - 3s 2ms/step - loss: 19368096.0000 - val_loss: 10056310.0000\n",
      "Epoch 8/50\n",
      "1449/1449 [==============================] - 3s 2ms/step - loss: 19514542.0000 - val_loss: 10888937.0000\n",
      "Epoch 9/50\n",
      "1449/1449 [==============================] - 3s 2ms/step - loss: 19401196.0000 - val_loss: 9857214.0000\n",
      "Epoch 10/50\n",
      "1449/1449 [==============================] - 3s 2ms/step - loss: 19374580.0000 - val_loss: 9934841.0000\n",
      "Epoch 11/50\n",
      "1449/1449 [==============================] - 3s 2ms/step - loss: 19389510.0000 - val_loss: 9829058.0000\n",
      "Epoch 12/50\n",
      "1449/1449 [==============================] - 3s 2ms/step - loss: 19459390.0000 - val_loss: 9914294.0000\n",
      "Epoch 13/50\n",
      "1449/1449 [==============================] - 3s 2ms/step - loss: 19366358.0000 - val_loss: 9885119.0000\n",
      "Epoch 14/50\n",
      "1449/1449 [==============================] - 3s 2ms/step - loss: 19345808.0000 - val_loss: 10033648.0000\n",
      "Epoch 15/50\n",
      "1449/1449 [==============================] - 3s 2ms/step - loss: 19418250.0000 - val_loss: 10121486.0000\n",
      "Epoch 16/50\n",
      "1449/1449 [==============================] - 3s 2ms/step - loss: 19330364.0000 - val_loss: 10072378.0000\n",
      "Epoch 17/50\n",
      "1449/1449 [==============================] - 3s 2ms/step - loss: 19341876.0000 - val_loss: 10027350.0000\n",
      "Epoch 18/50\n",
      "1449/1449 [==============================] - 3s 2ms/step - loss: 19359458.0000 - val_loss: 9998781.0000\n",
      "Epoch 19/50\n",
      "1449/1449 [==============================] - 3s 2ms/step - loss: 19310486.0000 - val_loss: 10423511.0000\n",
      "Epoch 20/50\n",
      "1449/1449 [==============================] - 3s 2ms/step - loss: 19360544.0000 - val_loss: 9999488.0000\n",
      "Epoch 21/50\n",
      "1449/1449 [==============================] - 3s 2ms/step - loss: 19636900.0000 - val_loss: 11081997.0000\n",
      "Epoch 22/50\n",
      "1449/1449 [==============================] - 3s 2ms/step - loss: 19335352.0000 - val_loss: 10203271.0000\n",
      "Epoch 23/50\n",
      "1449/1449 [==============================] - 3s 2ms/step - loss: 19303760.0000 - val_loss: 9984491.0000\n",
      "Epoch 24/50\n",
      "1449/1449 [==============================] - 3s 2ms/step - loss: 19300812.0000 - val_loss: 10105570.0000\n",
      "Epoch 25/50\n",
      "1449/1449 [==============================] - 3s 2ms/step - loss: 19205616.0000 - val_loss: 10305778.0000\n",
      "Epoch 26/50\n",
      "1449/1449 [==============================] - 3s 2ms/step - loss: 19387642.0000 - val_loss: 10121468.0000\n",
      "Epoch 27/50\n",
      "1449/1449 [==============================] - 3s 2ms/step - loss: 19181646.0000 - val_loss: 9930252.0000\n",
      "Epoch 28/50\n",
      "1449/1449 [==============================] - 3s 2ms/step - loss: 19465128.0000 - val_loss: 10229471.0000\n",
      "Epoch 29/50\n",
      "1449/1449 [==============================] - 3s 2ms/step - loss: 19316720.0000 - val_loss: 10080149.0000\n",
      "Epoch 30/50\n",
      "1449/1449 [==============================] - 3s 2ms/step - loss: 19400634.0000 - val_loss: 10133566.0000\n",
      "Epoch 31/50\n",
      "1449/1449 [==============================] - 3s 2ms/step - loss: 19517956.0000 - val_loss: 10122920.0000\n",
      "Epoch 32/50\n",
      "1449/1449 [==============================] - 3s 2ms/step - loss: 19192856.0000 - val_loss: 9911681.0000\n",
      "Epoch 33/50\n",
      "1449/1449 [==============================] - 3s 2ms/step - loss: 19414934.0000 - val_loss: 9890878.0000\n",
      "Epoch 34/50\n",
      "1449/1449 [==============================] - 3s 2ms/step - loss: 19330022.0000 - val_loss: 10062603.0000\n",
      "Epoch 35/50\n",
      "1449/1449 [==============================] - 3s 2ms/step - loss: 19287920.0000 - val_loss: 10114562.0000\n",
      "Epoch 36/50\n",
      "1449/1449 [==============================] - 3s 2ms/step - loss: 19307972.0000 - val_loss: 10083641.0000\n",
      "Epoch 37/50\n",
      "1449/1449 [==============================] - 3s 2ms/step - loss: 19267656.0000 - val_loss: 10081871.0000\n",
      "Epoch 38/50\n",
      "1449/1449 [==============================] - 3s 2ms/step - loss: 19237720.0000 - val_loss: 10063551.0000\n",
      "Epoch 39/50\n",
      "1449/1449 [==============================] - 3s 2ms/step - loss: 19347988.0000 - val_loss: 10210775.0000\n",
      "Epoch 40/50\n",
      "1449/1449 [==============================] - 3s 2ms/step - loss: 19328460.0000 - val_loss: 10198965.0000\n",
      "Epoch 41/50\n",
      "1449/1449 [==============================] - 3s 2ms/step - loss: 19531808.0000 - val_loss: 10066245.0000\n",
      "Epoch 42/50\n",
      "1449/1449 [==============================] - 3s 2ms/step - loss: 18999190.0000 - val_loss: 10090162.0000\n",
      "Epoch 43/50\n",
      "1449/1449 [==============================] - 3s 2ms/step - loss: 19437798.0000 - val_loss: 10418554.0000\n",
      "Epoch 44/50\n",
      "1449/1449 [==============================] - 3s 2ms/step - loss: 19063378.0000 - val_loss: 9925771.0000\n",
      "Epoch 45/50\n",
      "1449/1449 [==============================] - 3s 2ms/step - loss: 19407762.0000 - val_loss: 10271943.0000\n",
      "Epoch 46/50\n",
      "1449/1449 [==============================] - 3s 2ms/step - loss: 19287706.0000 - val_loss: 10404379.0000\n",
      "Epoch 47/50\n",
      "1449/1449 [==============================] - 3s 2ms/step - loss: 19292286.0000 - val_loss: 9994274.0000\n",
      "Epoch 48/50\n",
      "1449/1449 [==============================] - 3s 2ms/step - loss: 19330700.0000 - val_loss: 10467967.0000\n",
      "Epoch 49/50\n",
      "1449/1449 [==============================] - 3s 2ms/step - loss: 19273264.0000 - val_loss: 9938452.0000\n",
      "Epoch 50/50\n",
      "1449/1449 [==============================] - 3s 2ms/step - loss: 19175968.0000 - val_loss: 9810142.0000\n",
      "272/272 [==============================] - 0s 2ms/step\n"
     ]
    }
   ],
   "source": [
    "# Melatih model pada data pelatihan dengan data validasi\n",
    "history = model.fit(X_train, y_train, epochs=50, batch_size=24, verbose=1, validation_data=(X_test, y_test))\n",
    "\n",
    "# Melakukan prediksi pada data pengujian\n",
    "y_pred = model.predict(X_test)"
   ]
  },
  {
   "cell_type": "code",
   "execution_count": 11,
   "metadata": {},
   "outputs": [
    {
     "name": "stdout",
     "output_type": "stream",
     "text": [
      "dict_keys(['loss', 'val_loss'])\n"
     ]
    }
   ],
   "source": [
    "print(history.history.keys())\n"
   ]
  },
  {
   "cell_type": "code",
   "execution_count": 33,
   "metadata": {},
   "outputs": [
    {
     "data": {
      "image/png": "[encoded data removed]",
      "text/plain": [
       "<Figure size 432x288 with 1 Axes>"
      ]
     },
     "metadata": {
      "needs_background": "light"
     },
     "output_type": "display_data"
    }
   ],
   "source": [
    "import matplotlib.pyplot as plt\n",
    "\n",
    "# Mendapatkan data loss dan epoch dari objek history\n",
    "loss = history.history['loss']\n",
    "valos = history.history['val_loss']\n",
    "\n",
    "epoch = history.epoch\n",
    "\n",
    "# Memplot loss per epoch\n",
    "plt.plot(epoch, loss, 'b-')\n",
    "plt.plot(epoch, valos, 'r-')\n",
    "\n",
    "plt.xlabel('Epoch')\n",
    "plt.ylabel('Loss')\n",
    "plt.title('Training Loss per Epoch')\n",
    "plt.show()"
   ]
  },
  {
   "cell_type": "code",
   "execution_count": 34,
   "metadata": {},
   "outputs": [
    {
     "name": "stdout",
     "output_type": "stream",
     "text": [
      "MSE: 9810144.20490475\n",
      "MAE: 1043.9503592997069\n",
      "R-squared: 0.9249483668078543\n"
     ]
    }
   ],
   "source": [
    "# Evaluasi model\n",
    "mse = mean_squared_error(y_test, y_pred)\n",
    "mae = mean_absolute_error(y_test, y_pred)\n",
    "r2 = r2_score(y_test, y_pred)\n",
    "\n",
    "print(f'MSE: {mse}')\n",
    "print(f'MAE: {mae}')\n",
    "print(f'R-squared: {r2}')"
   ]
  },
  {
   "cell_type": "code",
   "execution_count": 14,
   "metadata": {},
   "outputs": [],
   "source": [
    "model.save('model-parkir1b.h5')"
   ]
  },
  {
   "cell_type": "code",
   "execution_count": 18,
   "metadata": {},
   "outputs": [],
   "source": [
    "df_hist = pd.DataFrame(history.history)\n",
    "df_hist.to_csv('history-model-parkir1b.csv', index=False)"
   ]
  },
  {
   "cell_type": "code",
   "execution_count": 35,
   "metadata": {},
   "outputs": [
    {
     "name": "stdout",
     "output_type": "stream",
     "text": [
      "1/1 [==============================] - 0s 37ms/step\n",
      "Prediksi Total Income untuk data baru: 9918.8486328125\n"
     ]
    }
   ],
   "source": [
    "# Misalnya, data baru dalam bentuk DataFrame 'new_data'\n",
    "new_data = pd.DataFrame({\n",
    "    'Vehicle Type': ['MOTOR'],  # Sesuaikan dengan kategori yang sesuai\n",
    "    'Parking Slip Type': ['CASUAL'],  # Sesuaikan dengan kategori yang sesuai\n",
    "    'Duration': [4.5]\n",
    "})\n",
    "\n",
    "# Encode kolom kategorikal menggunakan LabelEncoder yang sama dengan data pelatihan\n",
    "new_data['Vehicle Type'] = label_encoder_vehicle.transform(new_data['Vehicle Type'])\n",
    "new_data['Parking Slip Type'] = label_encoder_parking.transform(new_data['Parking Slip Type'])\n",
    "\n",
    "# Normalisasi fitur numerik jika diperlukan\n",
    "new_data['Duration'] = scaler.transform(new_data[['Duration']])\n",
    "\n",
    "# Prediksi Total Income untuk data baru\n",
    "predicted_income = model.predict(new_data)\n",
    "print(f'Prediksi Total Income untuk data baru: {predicted_income[0][0]}')\n"
   ]
  },
  {
   "cell_type": "code",
   "execution_count": null,
   "metadata": {},
   "outputs": [],
   "source": []
  }
 ],
 "metadata": {
  "kernelspec": {
   "display_name": "base",
   "language": "python",
   "name": "python3"
  },
  "language_info": {
   "codemirror_mode": {
    "name": "ipython",
    "version": 3
   },
   "file_extension": ".py",
   "mimetype": "text/x-python",
   "name": "python",
   "nbconvert_exporter": "python",
   "pygments_lexer": "ipython3",
   "version": "3.9.12"
  },
  "orig_nbformat": 4
 },
 "nbformat": 4,
 "nbformat_minor": 2
}
