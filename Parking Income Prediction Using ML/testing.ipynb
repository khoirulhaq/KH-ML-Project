{
 "cells": [
  {
   "cell_type": "code",
   "execution_count": 8,
   "metadata": {},
   "outputs": [],
   "source": [
    "import tensorflow as tf\n",
    "from tensorflow import keras\n",
    "import os\n",
    "import pandas as pd\n",
    "import numpy as np\n",
    "import matplotlib.pyplot as plt\n",
    "from sklearn.preprocessing import LabelEncoder\n",
    "import joblib"
   ]
  },
  {
   "cell_type": "code",
   "execution_count": 17,
   "metadata": {},
   "outputs": [],
   "source": [
    "model = tf.keras.models.load_model('model-parkir1b.h5', compile=False)\n",
    "\n",
    "scaler = joblib.load('scaler_Dur-park1.pkl')\n",
    "label_encoder_vehicle = joblib.load('label_encoder_VH1.pkl')\n",
    "label_encoder_parking =joblib.load('label_encoder_PK1.pkl')"
   ]
  },
  {
   "cell_type": "code",
   "execution_count": 16,
   "metadata": {},
   "outputs": [
    {
     "name": "stdout",
     "output_type": "stream",
     "text": [
      "1/1 [==============================] - 0s 43ms/step\n",
      "Prediksi Total Income untuk data baru: 21070.4140625\n"
     ]
    }
   ],
   "source": [
    "\n",
    "# Misalnya, data baru dalam bentuk DataFrame 'new_data'\n",
    "new_data = pd.DataFrame({\n",
    "    'Vehicle Type': ['MOBIL'],  # Sesuaikan dengan kategori yang sesuai\n",
    "    'Parking Slip Type': ['CASUAL'],  # Sesuaikan dengan kategori yang sesuai\n",
    "    'Duration': [4.5]\n",
    "})\n",
    "\n",
    "# Encode kolom kategorikal menggunakan LabelEncoder yang sama dengan data pelatihan\n",
    "new_data['Vehicle Type'] = label_encoder_vehicle.transform(new_data['Vehicle Type'])\n",
    "new_data['Parking Slip Type'] = label_encoder_parking.transform(new_data['Parking Slip Type'])\n",
    "\n",
    "# Normalisasi fitur numerik jika diperlukan\n",
    "new_data['Duration'] = scaler.transform(new_data[['Duration']])\n",
    "\n",
    "# Prediksi Total Income untuk data baru\n",
    "predicted_income = model.predict(new_data)\n",
    "print(f'Prediksi Total Income untuk data baru: {predicted_income[0][0]}')\n"
   ]
  },
  {
   "cell_type": "code",
   "execution_count": 18,
   "metadata": {},
   "outputs": [
    {
     "data": {
      "text/html": [
       "<div>\n",
       "<style scoped>\n",
       "    .dataframe tbody tr th:only-of-type {\n",
       "        vertical-align: middle;\n",
       "    }\n",
       "\n",
       "    .dataframe tbody tr th {\n",
       "        vertical-align: top;\n",
       "    }\n",
       "\n",
       "    .dataframe thead th {\n",
       "        text-align: right;\n",
       "    }\n",
       "</style>\n",
       "<table border=\"1\" class=\"dataframe\">\n",
       "  <thead>\n",
       "    <tr style=\"text-align: right;\">\n",
       "      <th></th>\n",
       "      <th>Vehicle Type</th>\n",
       "      <th>Parking Slip Type</th>\n",
       "      <th>Duration</th>\n",
       "    </tr>\n",
       "  </thead>\n",
       "  <tbody>\n",
       "    <tr>\n",
       "      <th>0</th>\n",
       "      <td>MOTOR</td>\n",
       "      <td>CASUAL</td>\n",
       "      <td>0.033333</td>\n",
       "    </tr>\n",
       "    <tr>\n",
       "      <th>1</th>\n",
       "      <td>MOTOR</td>\n",
       "      <td>CASUAL</td>\n",
       "      <td>0.000000</td>\n",
       "    </tr>\n",
       "    <tr>\n",
       "      <th>2</th>\n",
       "      <td>MOTOR</td>\n",
       "      <td>CASUAL</td>\n",
       "      <td>6.250000</td>\n",
       "    </tr>\n",
       "    <tr>\n",
       "      <th>3</th>\n",
       "      <td>MOBIL</td>\n",
       "      <td>CASUAL</td>\n",
       "      <td>0.700000</td>\n",
       "    </tr>\n",
       "    <tr>\n",
       "      <th>4</th>\n",
       "      <td>MOTOR</td>\n",
       "      <td>CASUAL</td>\n",
       "      <td>8.033333</td>\n",
       "    </tr>\n",
       "  </tbody>\n",
       "</table>\n",
       "</div>"
      ],
      "text/plain": [
       "  Vehicle Type Parking Slip Type  Duration\n",
       "0        MOTOR            CASUAL  0.033333\n",
       "1        MOTOR            CASUAL  0.000000\n",
       "2        MOTOR            CASUAL  6.250000\n",
       "3        MOBIL            CASUAL  0.700000\n",
       "4        MOTOR            CASUAL  8.033333"
      ]
     },
     "execution_count": 18,
     "metadata": {},
     "output_type": "execute_result"
    }
   ],
   "source": [
    "path = r\"C:\\Users\\khoir\\datascience\\data-analitics\\new-MLParking\\test_data.csv\"\n",
    "new_data = pd.read_csv(path, usecols=['Vehicle Type','Parking Slip Type','Duration'])\n",
    "new_data.head()"
   ]
  },
  {
   "cell_type": "code",
   "execution_count": 19,
   "metadata": {},
   "outputs": [
    {
     "name": "stdout",
     "output_type": "stream",
     "text": [
      "340/340 [==============================] - 0s 1ms/step\n",
      "Prediksi Total Income untuk data baru: 2032.7486572265625\n"
     ]
    }
   ],
   "source": [
    "# Encode kolom kategorikal menggunakan LabelEncoder yang sama dengan data pelatihan\n",
    "new_data['Vehicle Type'] = label_encoder_vehicle.transform(new_data['Vehicle Type'])\n",
    "new_data['Parking Slip Type'] = label_encoder_parking.transform(new_data['Parking Slip Type'])\n",
    "\n",
    "# Normalisasi fitur numerik jika diperlukan\n",
    "new_data['Duration'] = scaler.transform(new_data[['Duration']])\n",
    "\n",
    "# Prediksi Total Income untuk data baru\n",
    "predicted_income = model.predict(new_data)\n",
    "print(f'Prediksi Total Income untuk data baru: {predicted_income[0][0]}')"
   ]
  },
  {
   "cell_type": "code",
   "execution_count": 21,
   "metadata": {},
   "outputs": [
    {
     "name": "stdout",
     "output_type": "stream",
     "text": [
      "<class 'numpy.ndarray'>\n"
     ]
    }
   ],
   "source": [
    "print(type(predicted_income))"
   ]
  },
  {
   "cell_type": "code",
   "execution_count": 22,
   "metadata": {},
   "outputs": [],
   "source": [
    "new_data['predicted'] = predicted_income"
   ]
  },
  {
   "cell_type": "code",
   "execution_count": 23,
   "metadata": {},
   "outputs": [
    {
     "data": {
      "text/html": [
       "<div>\n",
       "<style scoped>\n",
       "    .dataframe tbody tr th:only-of-type {\n",
       "        vertical-align: middle;\n",
       "    }\n",
       "\n",
       "    .dataframe tbody tr th {\n",
       "        vertical-align: top;\n",
       "    }\n",
       "\n",
       "    .dataframe thead th {\n",
       "        text-align: right;\n",
       "    }\n",
       "</style>\n",
       "<table border=\"1\" class=\"dataframe\">\n",
       "  <thead>\n",
       "    <tr style=\"text-align: right;\">\n",
       "      <th></th>\n",
       "      <th>Vehicle Type</th>\n",
       "      <th>Parking Slip Type</th>\n",
       "      <th>Duration</th>\n",
       "      <th>predicted</th>\n",
       "    </tr>\n",
       "  </thead>\n",
       "  <tbody>\n",
       "    <tr>\n",
       "      <th>0</th>\n",
       "      <td>2</td>\n",
       "      <td>0</td>\n",
       "      <td>-0.727415</td>\n",
       "      <td>2032.748657</td>\n",
       "    </tr>\n",
       "    <tr>\n",
       "      <th>1</th>\n",
       "      <td>2</td>\n",
       "      <td>0</td>\n",
       "      <td>-0.735269</td>\n",
       "      <td>2021.845703</td>\n",
       "    </tr>\n",
       "    <tr>\n",
       "      <th>2</th>\n",
       "      <td>2</td>\n",
       "      <td>0</td>\n",
       "      <td>0.737258</td>\n",
       "      <td>13386.573242</td>\n",
       "    </tr>\n",
       "    <tr>\n",
       "      <th>3</th>\n",
       "      <td>1</td>\n",
       "      <td>0</td>\n",
       "      <td>-0.570346</td>\n",
       "      <td>5955.327637</td>\n",
       "    </tr>\n",
       "    <tr>\n",
       "      <th>4</th>\n",
       "      <td>2</td>\n",
       "      <td>0</td>\n",
       "      <td>1.157419</td>\n",
       "      <td>16920.353516</td>\n",
       "    </tr>\n",
       "  </tbody>\n",
       "</table>\n",
       "</div>"
      ],
      "text/plain": [
       "   Vehicle Type  Parking Slip Type  Duration     predicted\n",
       "0             2                  0 -0.727415   2032.748657\n",
       "1             2                  0 -0.735269   2021.845703\n",
       "2             2                  0  0.737258  13386.573242\n",
       "3             1                  0 -0.570346   5955.327637\n",
       "4             2                  0  1.157419  16920.353516"
      ]
     },
     "execution_count": 23,
     "metadata": {},
     "output_type": "execute_result"
    }
   ],
   "source": [
    "new_data.head()"
   ]
  },
  {
   "cell_type": "code",
   "execution_count": 24,
   "metadata": {},
   "outputs": [
    {
     "data": {
      "text/html": [
       "<div>\n",
       "<style scoped>\n",
       "    .dataframe tbody tr th:only-of-type {\n",
       "        vertical-align: middle;\n",
       "    }\n",
       "\n",
       "    .dataframe tbody tr th {\n",
       "        vertical-align: top;\n",
       "    }\n",
       "\n",
       "    .dataframe thead th {\n",
       "        text-align: right;\n",
       "    }\n",
       "</style>\n",
       "<table border=\"1\" class=\"dataframe\">\n",
       "  <thead>\n",
       "    <tr style=\"text-align: right;\">\n",
       "      <th></th>\n",
       "      <th>Vehicle Type</th>\n",
       "      <th>Parking Slip Type</th>\n",
       "      <th>Total Income</th>\n",
       "      <th>Exit_date</th>\n",
       "      <th>Entry_date</th>\n",
       "      <th>Duration</th>\n",
       "    </tr>\n",
       "  </thead>\n",
       "  <tbody>\n",
       "    <tr>\n",
       "      <th>0</th>\n",
       "      <td>MOTOR</td>\n",
       "      <td>CASUAL</td>\n",
       "      <td>2000</td>\n",
       "      <td>2022-10-10</td>\n",
       "      <td>2022-10-10</td>\n",
       "      <td>0.033333</td>\n",
       "    </tr>\n",
       "    <tr>\n",
       "      <th>1</th>\n",
       "      <td>MOTOR</td>\n",
       "      <td>CASUAL</td>\n",
       "      <td>2000</td>\n",
       "      <td>2022-10-10</td>\n",
       "      <td>2022-10-10</td>\n",
       "      <td>0.000000</td>\n",
       "    </tr>\n",
       "    <tr>\n",
       "      <th>2</th>\n",
       "      <td>MOTOR</td>\n",
       "      <td>CASUAL</td>\n",
       "      <td>0</td>\n",
       "      <td>2022-10-12</td>\n",
       "      <td>2022-10-12</td>\n",
       "      <td>6.250000</td>\n",
       "    </tr>\n",
       "    <tr>\n",
       "      <th>3</th>\n",
       "      <td>MOBIL</td>\n",
       "      <td>CASUAL</td>\n",
       "      <td>0</td>\n",
       "      <td>2022-10-12</td>\n",
       "      <td>2022-10-12</td>\n",
       "      <td>0.700000</td>\n",
       "    </tr>\n",
       "    <tr>\n",
       "      <th>4</th>\n",
       "      <td>MOTOR</td>\n",
       "      <td>CASUAL</td>\n",
       "      <td>0</td>\n",
       "      <td>2022-10-12</td>\n",
       "      <td>2022-10-12</td>\n",
       "      <td>8.033333</td>\n",
       "    </tr>\n",
       "  </tbody>\n",
       "</table>\n",
       "</div>"
      ],
      "text/plain": [
       "  Vehicle Type Parking Slip Type  Total Income   Exit_date  Entry_date  \\\n",
       "0        MOTOR            CASUAL          2000  2022-10-10  2022-10-10   \n",
       "1        MOTOR            CASUAL          2000  2022-10-10  2022-10-10   \n",
       "2        MOTOR            CASUAL             0  2022-10-12  2022-10-12   \n",
       "3        MOBIL            CASUAL             0  2022-10-12  2022-10-12   \n",
       "4        MOTOR            CASUAL             0  2022-10-12  2022-10-12   \n",
       "\n",
       "   Duration  \n",
       "0  0.033333  \n",
       "1  0.000000  \n",
       "2  6.250000  \n",
       "3  0.700000  \n",
       "4  8.033333  "
      ]
     },
     "execution_count": 24,
     "metadata": {},
     "output_type": "execute_result"
    }
   ],
   "source": [
    "dftest = pd.read_csv(path)\n",
    "dftest.head()"
   ]
  },
  {
   "cell_type": "code",
   "execution_count": 25,
   "metadata": {},
   "outputs": [
    {
     "data": {
      "text/html": [
       "<div>\n",
       "<style scoped>\n",
       "    .dataframe tbody tr th:only-of-type {\n",
       "        vertical-align: middle;\n",
       "    }\n",
       "\n",
       "    .dataframe tbody tr th {\n",
       "        vertical-align: top;\n",
       "    }\n",
       "\n",
       "    .dataframe thead th {\n",
       "        text-align: right;\n",
       "    }\n",
       "</style>\n",
       "<table border=\"1\" class=\"dataframe\">\n",
       "  <thead>\n",
       "    <tr style=\"text-align: right;\">\n",
       "      <th></th>\n",
       "      <th>Vehicle Type</th>\n",
       "      <th>Parking Slip Type</th>\n",
       "      <th>Total Income</th>\n",
       "      <th>Exit_date</th>\n",
       "      <th>Entry_date</th>\n",
       "      <th>Duration</th>\n",
       "      <th>predicted_income</th>\n",
       "    </tr>\n",
       "  </thead>\n",
       "  <tbody>\n",
       "    <tr>\n",
       "      <th>0</th>\n",
       "      <td>MOTOR</td>\n",
       "      <td>CASUAL</td>\n",
       "      <td>2000</td>\n",
       "      <td>2022-10-10</td>\n",
       "      <td>2022-10-10</td>\n",
       "      <td>0.033333</td>\n",
       "      <td>2032.748657</td>\n",
       "    </tr>\n",
       "    <tr>\n",
       "      <th>1</th>\n",
       "      <td>MOTOR</td>\n",
       "      <td>CASUAL</td>\n",
       "      <td>2000</td>\n",
       "      <td>2022-10-10</td>\n",
       "      <td>2022-10-10</td>\n",
       "      <td>0.000000</td>\n",
       "      <td>2021.845703</td>\n",
       "    </tr>\n",
       "    <tr>\n",
       "      <th>2</th>\n",
       "      <td>MOTOR</td>\n",
       "      <td>CASUAL</td>\n",
       "      <td>0</td>\n",
       "      <td>2022-10-12</td>\n",
       "      <td>2022-10-12</td>\n",
       "      <td>6.250000</td>\n",
       "      <td>13386.573242</td>\n",
       "    </tr>\n",
       "    <tr>\n",
       "      <th>3</th>\n",
       "      <td>MOBIL</td>\n",
       "      <td>CASUAL</td>\n",
       "      <td>0</td>\n",
       "      <td>2022-10-12</td>\n",
       "      <td>2022-10-12</td>\n",
       "      <td>0.700000</td>\n",
       "      <td>5955.327637</td>\n",
       "    </tr>\n",
       "    <tr>\n",
       "      <th>4</th>\n",
       "      <td>MOTOR</td>\n",
       "      <td>CASUAL</td>\n",
       "      <td>0</td>\n",
       "      <td>2022-10-12</td>\n",
       "      <td>2022-10-12</td>\n",
       "      <td>8.033333</td>\n",
       "      <td>16920.353516</td>\n",
       "    </tr>\n",
       "  </tbody>\n",
       "</table>\n",
       "</div>"
      ],
      "text/plain": [
       "  Vehicle Type Parking Slip Type  Total Income   Exit_date  Entry_date  \\\n",
       "0        MOTOR            CASUAL          2000  2022-10-10  2022-10-10   \n",
       "1        MOTOR            CASUAL          2000  2022-10-10  2022-10-10   \n",
       "2        MOTOR            CASUAL             0  2022-10-12  2022-10-12   \n",
       "3        MOBIL            CASUAL             0  2022-10-12  2022-10-12   \n",
       "4        MOTOR            CASUAL             0  2022-10-12  2022-10-12   \n",
       "\n",
       "   Duration  predicted_income  \n",
       "0  0.033333       2032.748657  \n",
       "1  0.000000       2021.845703  \n",
       "2  6.250000      13386.573242  \n",
       "3  0.700000       5955.327637  \n",
       "4  8.033333      16920.353516  "
      ]
     },
     "execution_count": 25,
     "metadata": {},
     "output_type": "execute_result"
    }
   ],
   "source": [
    "dftest['predicted_income'] = predicted_income\n",
    "dftest.head()"
   ]
  },
  {
   "cell_type": "code",
   "execution_count": 26,
   "metadata": {},
   "outputs": [],
   "source": [
    "from sklearn.metrics import r2_score"
   ]
  },
  {
   "cell_type": "code",
   "execution_count": 29,
   "metadata": {},
   "outputs": [
    {
     "name": "stdout",
     "output_type": "stream",
     "text": [
      "R-squared: 0.91\n"
     ]
    }
   ],
   "source": [
    "# Mengukur R-squared antara kolom aktual dan kolom yang diprediksi\n",
    "r_squared = r2_score(dftest['Total Income'], dftest['predicted_income'])\n",
    "\n",
    "# Tampilkan nilai R-squared\n",
    "print(f'R-squared: {r_squared:.2f}')"
   ]
  },
  {
   "cell_type": "code",
   "execution_count": 30,
   "metadata": {},
   "outputs": [],
   "source": [
    "dftest.to_csv('Hasil-prediksi.csv', index=False)"
   ]
  },
  {
   "cell_type": "code",
   "execution_count": null,
   "metadata": {},
   "outputs": [],
   "source": []
  }
 ],
 "metadata": {
  "kernelspec": {
   "display_name": "base",
   "language": "python",
   "name": "python3"
  },
  "language_info": {
   "codemirror_mode": {
    "name": "ipython",
    "version": 3
   },
   "file_extension": ".py",
   "mimetype": "text/x-python",
   "name": "python",
   "nbconvert_exporter": "python",
   "pygments_lexer": "ipython3",
   "version": "3.9.12"
  },
  "orig_nbformat": 4
 },
 "nbformat": 4,
 "nbformat_minor": 2
}
