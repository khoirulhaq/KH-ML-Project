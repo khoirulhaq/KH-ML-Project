{
 "cells": [
  {
   "cell_type": "code",
   "execution_count": 16,
   "metadata": {},
   "outputs": [],
   "source": [
    "import pandas as pd\n",
    "import numpy as np"
   ]
  },
  {
   "cell_type": "code",
   "execution_count": 17,
   "metadata": {},
   "outputs": [
    {
     "name": "stdout",
     "output_type": "stream",
     "text": [
      "            ph    Hardness        Solids  Chloramines     Sulfate  \\\n",
      "3271  4.668102  193.681735  47580.991603     7.166639  359.948574   \n",
      "3272  7.808856  193.553212  17329.802160     8.061362         NaN   \n",
      "3273  9.419510  175.762646  33155.578218     7.350233         NaN   \n",
      "3274  5.126763  230.603758  11983.869376     6.303357         NaN   \n",
      "3275  7.874671  195.102299  17404.177061     7.509306         NaN   \n",
      "\n",
      "      Conductivity  Organic_carbon  Trihalomethanes  Turbidity  Potability  \n",
      "3271    526.424171       13.894419        66.687695   4.435821           1  \n",
      "3272    392.449580       19.903225              NaN   2.798243           1  \n",
      "3273    432.044783       11.039070        69.845400   3.298875           1  \n",
      "3274    402.883113       11.168946        77.488213   4.708658           1  \n",
      "3275    327.459760       16.140368        78.698446   2.309149           1  \n"
     ]
    }
   ],
   "source": [
    "data_raw = pd.read_csv(\"F:/7_Semester/Machine Learning/projek/water_potability.csv\")\n",
    "print(data_raw.tail())"
   ]
  },
  {
   "cell_type": "code",
   "execution_count": 19,
   "metadata": {},
   "outputs": [
    {
     "name": "stdout",
     "output_type": "stream",
     "text": [
      "<class 'pandas.core.frame.DataFrame'>\n",
      "RangeIndex: 3276 entries, 0 to 3275\n",
      "Data columns (total 10 columns):\n",
      " #   Column           Non-Null Count  Dtype  \n",
      "---  ------           --------------  -----  \n",
      " 0   ph               2785 non-null   float64\n",
      " 1   Hardness         3276 non-null   float64\n",
      " 2   Solids           3276 non-null   float64\n",
      " 3   Chloramines      3276 non-null   float64\n",
      " 4   Sulfate          2495 non-null   float64\n",
      " 5   Conductivity     3276 non-null   float64\n",
      " 6   Organic_carbon   3276 non-null   float64\n",
      " 7   Trihalomethanes  3114 non-null   float64\n",
      " 8   Turbidity        3276 non-null   float64\n",
      " 9   Potability       3276 non-null   int64  \n",
      "dtypes: float64(9), int64(1)\n",
      "memory usage: 256.1 KB\n"
     ]
    }
   ],
   "source": [
    "data_raw.info()"
   ]
  },
  {
   "cell_type": "code",
   "execution_count": 20,
   "metadata": {},
   "outputs": [
    {
     "name": "stdout",
     "output_type": "stream",
     "text": [
      "ph                 491\n",
      "Hardness             0\n",
      "Solids               0\n",
      "Chloramines          0\n",
      "Sulfate            781\n",
      "Conductivity         0\n",
      "Organic_carbon       0\n",
      "Trihalomethanes    162\n",
      "Turbidity            0\n",
      "Potability           0\n",
      "dtype: int64\n"
     ]
    }
   ],
   "source": [
    "print(data_raw.isnull().sum())"
   ]
  },
  {
   "cell_type": "code",
   "execution_count": 21,
   "metadata": {},
   "outputs": [],
   "source": [
    "data_raw.dropna(inplace=True)\n",
    "data_raw.reset_index(inplace=True)"
   ]
  },
  {
   "cell_type": "code",
   "execution_count": 22,
   "metadata": {},
   "outputs": [
    {
     "name": "stdout",
     "output_type": "stream",
     "text": [
      "      index         ph    Hardness        Solids  Chloramines     Sulfate  \\\n",
      "0         3   8.316766  214.373394  22018.417441     8.059332  356.886136   \n",
      "1         4   9.092223  181.101509  17978.986339     6.546600  310.135738   \n",
      "2         5   5.584087  188.313324  28748.687739     7.544869  326.678363   \n",
      "3         6  10.223862  248.071735  28749.716544     7.513408  393.663396   \n",
      "4         7   8.635849  203.361523  13672.091764     4.563009  303.309771   \n",
      "...     ...        ...         ...           ...          ...         ...   \n",
      "2006   3267   8.989900  215.047358  15921.412018     6.297312  312.931022   \n",
      "2007   3268   6.702547  207.321086  17246.920347     7.708117  304.510230   \n",
      "2008   3269  11.491011   94.812545  37188.826022     9.263166  258.930600   \n",
      "2009   3270   6.069616  186.659040  26138.780191     7.747547  345.700257   \n",
      "2010   3271   4.668102  193.681735  47580.991603     7.166639  359.948574   \n",
      "\n",
      "      Conductivity  Organic_carbon  Trihalomethanes  Turbidity  Potability  \n",
      "0       363.266516       18.436524       100.341674   4.628771           0  \n",
      "1       398.410813       11.558279        31.997993   4.075075           0  \n",
      "2       280.467916        8.399735        54.917862   2.559708           0  \n",
      "3       283.651634       13.789695        84.603556   2.672989           0  \n",
      "4       474.607645       12.363817        62.798309   4.401425           0  \n",
      "...            ...             ...              ...        ...         ...  \n",
      "2006    390.410231        9.899115        55.069304   4.613843           1  \n",
      "2007    329.266002       16.217303        28.878601   3.442983           1  \n",
      "2008    439.893618       16.172755        41.558501   4.369264           1  \n",
      "2009    415.886955       12.067620        60.419921   3.669712           1  \n",
      "2010    526.424171       13.894419        66.687695   4.435821           1  \n",
      "\n",
      "[2011 rows x 11 columns]\n"
     ]
    }
   ],
   "source": [
    "print(data_raw)"
   ]
  },
  {
   "cell_type": "code",
   "execution_count": 24,
   "metadata": {},
   "outputs": [
    {
     "name": "stdout",
     "output_type": "stream",
     "text": [
      "index              0\n",
      "ph                 0\n",
      "Hardness           0\n",
      "Solids             0\n",
      "Chloramines        0\n",
      "Sulfate            0\n",
      "Conductivity       0\n",
      "Organic_carbon     0\n",
      "Trihalomethanes    0\n",
      "Turbidity          0\n",
      "Potability         0\n",
      "dtype: int64\n"
     ]
    }
   ],
   "source": [
    "print(data_raw.isnull().sum())"
   ]
  },
  {
   "cell_type": "code",
   "execution_count": 28,
   "metadata": {},
   "outputs": [
    {
     "name": "stdout",
     "output_type": "stream",
     "text": [
      "<class 'pandas.core.frame.DataFrame'>\n"
     ]
    }
   ],
   "source": [
    "print(type(data_raw))"
   ]
  },
  {
   "cell_type": "code",
   "execution_count": 29,
   "metadata": {},
   "outputs": [],
   "source": [
    "data_raw.to_csv('F:/7_Semester/Machine Learning/projek/water_potability_clean.csv', index=False)"
   ]
  },
  {
   "cell_type": "code",
   "execution_count": 39,
   "metadata": {},
   "outputs": [],
   "source": [
    "data_0 = data_raw[data_raw['Potability'] == 0]\n",
    "data_1 = data_raw[data_raw['Potability'] == 1]"
   ]
  },
  {
   "cell_type": "code",
   "execution_count": 43,
   "metadata": {},
   "outputs": [
    {
     "name": "stdout",
     "output_type": "stream",
     "text": [
      "<class 'pandas.core.frame.DataFrame'>\n",
      "Int64Index: 1200 entries, 0 to 1909\n",
      "Data columns (total 11 columns):\n",
      " #   Column           Non-Null Count  Dtype  \n",
      "---  ------           --------------  -----  \n",
      " 0   index            1200 non-null   int64  \n",
      " 1   ph               1200 non-null   float64\n",
      " 2   Hardness         1200 non-null   float64\n",
      " 3   Solids           1200 non-null   float64\n",
      " 4   Chloramines      1200 non-null   float64\n",
      " 5   Sulfate          1200 non-null   float64\n",
      " 6   Conductivity     1200 non-null   float64\n",
      " 7   Organic_carbon   1200 non-null   float64\n",
      " 8   Trihalomethanes  1200 non-null   float64\n",
      " 9   Turbidity        1200 non-null   float64\n",
      " 10  Potability       1200 non-null   int64  \n",
      "dtypes: float64(9), int64(2)\n",
      "memory usage: 112.5 KB\n",
      "None\n",
      "<class 'pandas.core.frame.DataFrame'>\n",
      "Int64Index: 811 entries, 154 to 2010\n",
      "Data columns (total 11 columns):\n",
      " #   Column           Non-Null Count  Dtype  \n",
      "---  ------           --------------  -----  \n",
      " 0   index            811 non-null    int64  \n",
      " 1   ph               811 non-null    float64\n",
      " 2   Hardness         811 non-null    float64\n",
      " 3   Solids           811 non-null    float64\n",
      " 4   Chloramines      811 non-null    float64\n",
      " 5   Sulfate          811 non-null    float64\n",
      " 6   Conductivity     811 non-null    float64\n",
      " 7   Organic_carbon   811 non-null    float64\n",
      " 8   Trihalomethanes  811 non-null    float64\n",
      " 9   Turbidity        811 non-null    float64\n",
      " 10  Potability       811 non-null    int64  \n",
      "dtypes: float64(9), int64(2)\n",
      "memory usage: 76.0 KB\n",
      "None\n"
     ]
    }
   ],
   "source": [
    "print(data_0.info())\n",
    "print(data_1.info())"
   ]
  },
  {
   "cell_type": "code",
   "execution_count": 48,
   "metadata": {},
   "outputs": [
    {
     "name": "stdout",
     "output_type": "stream",
     "text": [
      "      index         ph    Hardness        Solids  Chloramines     Sulfate  \\\n",
      "0         3   8.316766  214.373394  22018.417441     8.059332  356.886136   \n",
      "1         4   9.092223  181.101509  17978.986339     6.546600  310.135738   \n",
      "2         5   5.584087  188.313324  28748.687739     7.544869  326.678363   \n",
      "3         6  10.223862  248.071735  28749.716544     7.513408  393.663396   \n",
      "4         7   8.635849  203.361523  13672.091764     4.563009  303.309771   \n",
      "...     ...        ...         ...           ...          ...         ...   \n",
      "1905   3108  11.449739  186.652648  12355.344107     7.065576  321.831513   \n",
      "1906   3109   6.283679  205.376624  19905.436548     7.078345  284.206021   \n",
      "1907   3114   6.971577  185.906938  27959.987873     7.214510  349.743879   \n",
      "1908   3115   4.709187  179.141018  22291.418577     6.774276  407.417977   \n",
      "1909   3116   5.230003  176.714023  27971.891806     7.597981  413.914001   \n",
      "\n",
      "      Conductivity  Organic_carbon  Trihalomethanes  Turbidity  Potability  \n",
      "0       363.266516       18.436524       100.341674   4.628771           0  \n",
      "1       398.410813       11.558279        31.997993   4.075075           0  \n",
      "2       280.467916        8.399735        54.917862   2.559708           0  \n",
      "3       283.651634       13.789695        84.603556   2.672989           0  \n",
      "4       474.607645       12.363817        62.798309   4.401425           0  \n",
      "...            ...             ...              ...        ...         ...  \n",
      "1905    503.964110       16.282371        77.152173   5.166903           0  \n",
      "1906    471.904032       18.027160        64.362608   4.480771           0  \n",
      "1907    414.067354       19.882917        36.179003   3.226349           0  \n",
      "1908    371.264843       18.186801        86.528627   3.860084           0  \n",
      "1909    440.355374       14.423614        72.837370   3.045612           0  \n",
      "\n",
      "[1200 rows x 11 columns]\n",
      "      index         ph    Hardness        Solids  Chloramines     Sulfate  \\\n",
      "154     250   9.445130  145.805402  13168.529156     9.444471  310.583374   \n",
      "155     251   9.024845  128.096691  19859.676476     8.016423  300.150377   \n",
      "156     253   6.800119  242.008082  39143.403329     9.501695  187.170714   \n",
      "157     254   7.174135  203.408935  20401.102461     7.681806  287.085679   \n",
      "158     255   7.657991  236.960889  14245.789121     6.289065  373.165363   \n",
      "...     ...        ...         ...           ...          ...         ...   \n",
      "2006   3267   8.989900  215.047358  15921.412018     6.297312  312.931022   \n",
      "2007   3268   6.702547  207.321086  17246.920347     7.708117  304.510230   \n",
      "2008   3269  11.491011   94.812545  37188.826022     9.263166  258.930600   \n",
      "2009   3270   6.069616  186.659040  26138.780191     7.747547  345.700257   \n",
      "2010   3271   4.668102  193.681735  47580.991603     7.166639  359.948574   \n",
      "\n",
      "      Conductivity  Organic_carbon  Trihalomethanes  Turbidity  Potability  \n",
      "154     592.659021        8.606397        77.577460   3.875165           1  \n",
      "155     451.143481       14.770863        73.778026   3.985251           1  \n",
      "156     376.456593       11.432466        73.777275   3.854940           1  \n",
      "157     315.549900       14.533510        74.405616   3.939896           1  \n",
      "158     416.624189       10.464239        85.852769   2.437296           1  \n",
      "...            ...             ...              ...        ...         ...  \n",
      "2006    390.410231        9.899115        55.069304   4.613843           1  \n",
      "2007    329.266002       16.217303        28.878601   3.442983           1  \n",
      "2008    439.893618       16.172755        41.558501   4.369264           1  \n",
      "2009    415.886955       12.067620        60.419921   3.669712           1  \n",
      "2010    526.424171       13.894419        66.687695   4.435821           1  \n",
      "\n",
      "[811 rows x 11 columns]\n"
     ]
    }
   ],
   "source": [
    "print(data_0)\n",
    "print(data_1)"
   ]
  },
  {
   "cell_type": "code",
   "execution_count": 53,
   "metadata": {},
   "outputs": [],
   "source": [
    "data_1 = data_1.reset_index(drop=True)"
   ]
  },
  {
   "cell_type": "code",
   "execution_count": 54,
   "metadata": {},
   "outputs": [
    {
     "name": "stdout",
     "output_type": "stream",
     "text": [
      "     index         ph    Hardness        Solids  Chloramines     Sulfate  \\\n",
      "0      250   9.445130  145.805402  13168.529156     9.444471  310.583374   \n",
      "1      251   9.024845  128.096691  19859.676476     8.016423  300.150377   \n",
      "2      253   6.800119  242.008082  39143.403329     9.501695  187.170714   \n",
      "3      254   7.174135  203.408935  20401.102461     7.681806  287.085679   \n",
      "4      255   7.657991  236.960889  14245.789121     6.289065  373.165363   \n",
      "..     ...        ...         ...           ...          ...         ...   \n",
      "806   3267   8.989900  215.047358  15921.412018     6.297312  312.931022   \n",
      "807   3268   6.702547  207.321086  17246.920347     7.708117  304.510230   \n",
      "808   3269  11.491011   94.812545  37188.826022     9.263166  258.930600   \n",
      "809   3270   6.069616  186.659040  26138.780191     7.747547  345.700257   \n",
      "810   3271   4.668102  193.681735  47580.991603     7.166639  359.948574   \n",
      "\n",
      "     Conductivity  Organic_carbon  Trihalomethanes  Turbidity  Potability  \n",
      "0      592.659021        8.606397        77.577460   3.875165           1  \n",
      "1      451.143481       14.770863        73.778026   3.985251           1  \n",
      "2      376.456593       11.432466        73.777275   3.854940           1  \n",
      "3      315.549900       14.533510        74.405616   3.939896           1  \n",
      "4      416.624189       10.464239        85.852769   2.437296           1  \n",
      "..            ...             ...              ...        ...         ...  \n",
      "806    390.410231        9.899115        55.069304   4.613843           1  \n",
      "807    329.266002       16.217303        28.878601   3.442983           1  \n",
      "808    439.893618       16.172755        41.558501   4.369264           1  \n",
      "809    415.886955       12.067620        60.419921   3.669712           1  \n",
      "810    526.424171       13.894419        66.687695   4.435821           1  \n",
      "\n",
      "[811 rows x 11 columns]\n"
     ]
    }
   ],
   "source": [
    "print(data_1)"
   ]
  },
  {
   "cell_type": "code",
   "execution_count": null,
   "metadata": {},
   "outputs": [],
   "source": []
  }
 ],
 "metadata": {
  "kernelspec": {
   "display_name": "Python 3",
   "language": "python",
   "name": "python3"
  },
  "language_info": {
   "codemirror_mode": {
    "name": "ipython",
    "version": 3
   },
   "file_extension": ".py",
   "mimetype": "text/x-python",
   "name": "python",
   "nbconvert_exporter": "python",
   "pygments_lexer": "ipython3",
   "version": "3.8.5"
  }
 },
 "nbformat": 4,
 "nbformat_minor": 4
}
