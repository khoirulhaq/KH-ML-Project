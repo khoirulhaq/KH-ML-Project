{
 "cells": [
  {
   "cell_type": "code",
   "execution_count": 1,
   "metadata": {},
   "outputs": [],
   "source": [
    "import numpy as np\n",
    "import pandas as pd\n",
    "from sklearn.model_selection import cross_val_score"
   ]
  },
  {
   "cell_type": "code",
   "execution_count": 2,
   "metadata": {},
   "outputs": [
    {
     "name": "stdout",
     "output_type": "stream",
     "text": [
      "      index         ph    Hardness        Solids  Chloramines     Sulfate  \\\n",
      "2006   3267   8.989900  215.047358  15921.412018     6.297312  312.931022   \n",
      "2007   3268   6.702547  207.321086  17246.920347     7.708117  304.510230   \n",
      "2008   3269  11.491011   94.812545  37188.826022     9.263166  258.930600   \n",
      "2009   3270   6.069616  186.659040  26138.780191     7.747547  345.700257   \n",
      "2010   3271   4.668102  193.681735  47580.991603     7.166639  359.948574   \n",
      "\n",
      "      Conductivity  Organic_carbon  Trihalomethanes  Turbidity  Potability  \n",
      "2006    390.410231        9.899115        55.069304   4.613843           1  \n",
      "2007    329.266002       16.217303        28.878601   3.442983           1  \n",
      "2008    439.893618       16.172755        41.558501   4.369264           1  \n",
      "2009    415.886955       12.067620        60.419921   3.669712           1  \n",
      "2010    526.424171       13.894419        66.687695   4.435821           1  \n",
      "index              0\n",
      "ph                 0\n",
      "Hardness           0\n",
      "Solids             0\n",
      "Chloramines        0\n",
      "Sulfate            0\n",
      "Conductivity       0\n",
      "Organic_carbon     0\n",
      "Trihalomethanes    0\n",
      "Turbidity          0\n",
      "Potability         0\n",
      "dtype: int64\n"
     ]
    }
   ],
   "source": [
    "# membaca file \n",
    "data = pd.read_csv(\"F:/7_Semester/Machine Learning/projek/water_potability_clean.csv\")\n",
    "print(data.tail())\n",
    "print(data.isnull().sum())"
   ]
  },
  {
   "cell_type": "code",
   "execution_count": 3,
   "metadata": {},
   "outputs": [],
   "source": [
    "# Variabel independen\n",
    "X = data.drop([\"Potability\"], axis = 1)\n",
    "# Variabel dependen\n",
    "Y = data[\"Potability\"]"
   ]
  },
  {
   "cell_type": "code",
   "execution_count": 4,
   "metadata": {},
   "outputs": [],
   "source": [
    "from sklearn.model_selection import train_test_split\n",
    "x_train, x_test, y_train, y_test = train_test_split(X, Y, test_size = 0.2, random_state = 0)"
   ]
  },
  {
   "cell_type": "markdown",
   "metadata": {},
   "source": [
    "### Gaussian"
   ]
  },
  {
   "cell_type": "code",
   "execution_count": 5,
   "metadata": {},
   "outputs": [
    {
     "data": {
      "text/plain": [
       "array([948., 660.])"
      ]
     },
     "execution_count": 5,
     "metadata": {},
     "output_type": "execute_result"
    }
   ],
   "source": [
    "from sklearn.naive_bayes import GaussianNB\n",
    "modelnb = GaussianNB()\n",
    "nbtrain = modelnb.fit(x_train, y_train)\n",
    "nbtrain.class_count_"
   ]
  },
  {
   "cell_type": "code",
   "execution_count": 6,
   "metadata": {},
   "outputs": [
    {
     "name": "stdout",
     "output_type": "stream",
     "text": [
      "Accuracy: 0.6650124069478908\n"
     ]
    }
   ],
   "source": [
    "#Predict the response for test dataset\n",
    "y_pred = nbtrain.predict(x_test)\n",
    "from sklearn import metrics \n",
    "print(\"Accuracy:\",metrics.accuracy_score(y_test, y_pred))"
   ]
  },
  {
   "cell_type": "code",
   "execution_count": 7,
   "metadata": {},
   "outputs": [
    {
     "name": "stdout",
     "output_type": "stream",
     "text": [
      "Accuracy: 0.6253101736972705\n"
     ]
    }
   ],
   "source": [
    "from sklearn.naive_bayes import BernoulliNB\n",
    "modelnb_B = BernoulliNB()\n",
    "nbtrain_B = modelnb_B.fit(x_train, y_train)\n",
    "y_predB = nbtrain_B.predict(x_test)\n",
    "print(\"Accuracy:\",metrics.accuracy_score(y_test, y_predB))"
   ]
  },
  {
   "cell_type": "code",
   "execution_count": 8,
   "metadata": {},
   "outputs": [
    {
     "name": "stdout",
     "output_type": "stream",
     "text": [
      "Accuracy: 0.5384615384615384\n"
     ]
    }
   ],
   "source": [
    "from sklearn.naive_bayes import MultinomialNB\n",
    "modelnb_C = MultinomialNB()\n",
    "nbtrain_C = modelnb_C.fit(x_train, y_train)\n",
    "y_predC = nbtrain_C.predict(x_test)\n",
    "print(\"Accuracy:\",metrics.accuracy_score(y_test, y_predC))"
   ]
  },
  {
   "cell_type": "code",
   "execution_count": 9,
   "metadata": {},
   "outputs": [
    {
     "name": "stdout",
     "output_type": "stream",
     "text": [
      "Accuracy: 0.5359801488833746\n"
     ]
    }
   ],
   "source": [
    "from sklearn.naive_bayes import ComplementNB\n",
    "modelnb_D = ComplementNB()\n",
    "nbtrain_D = modelnb_D.fit(x_train, y_train)\n",
    "y_predD = nbtrain_D.predict(x_test)\n",
    "print(\"Accuracy:\",metrics.accuracy_score(y_test, y_predD))"
   ]
  },
  {
   "cell_type": "code",
   "execution_count": 10,
   "metadata": {},
   "outputs": [
    {
     "name": "stdout",
     "output_type": "stream",
     "text": [
      "Accuracy: 0.6256218905472637\n"
     ]
    }
   ],
   "source": [
    "y_pred_train = nbtrain.predict(x_train)\n",
    "print(\"Accuracy:\",metrics.accuracy_score(y_train, y_pred_train))"
   ]
  },
  {
   "cell_type": "code",
   "execution_count": 11,
   "metadata": {},
   "outputs": [
    {
     "name": "stdout",
     "output_type": "stream",
     "text": [
      "=================Gaussian=======================\n",
      "K=5  [0.65432099 0.56790123 0.7037037  0.525      0.6       ] avg =  0.6101851851851852\n",
      "K=10  [0.65853659 0.58536585 0.51219512 0.6        0.75       0.75\n",
      " 0.6        0.55       0.55       0.65      ] avg =  0.620609756097561\n",
      "=================Bernoulli=======================\n",
      "K=5  [0.61728395 0.62962963 0.62962963 0.625      0.625     ] avg =  0.6253086419753087\n",
      "K=10  [0.6097561  0.63414634 0.63414634 0.625      0.625      0.625\n",
      " 0.625      0.625      0.625      0.625     ] avg =  0.6101851851851852\n",
      "=================Multinomial=======================\n",
      "K=5  [0.58024691 0.54320988 0.44444444 0.55       0.5375    ] avg =  0.5310802469135802\n",
      "K=10  [0.65853659 0.48780488 0.53658537 0.575      0.4        0.475\n",
      " 0.5        0.575      0.525      0.55      ] avg =  0.5310802469135802\n",
      "=================Complement=======================\n",
      "K=5  [0.58024691 0.54320988 0.44444444 0.55       0.5375    ] avg =  0.5310802469135802\n",
      "K=10  [0.65853659 0.48780488 0.53658537 0.575      0.4        0.475\n",
      " 0.5        0.575      0.525      0.55      ] avg =  0.5310802469135802\n"
     ]
    }
   ],
   "source": [
    "cvG5 = cross_val_score(nbtrain, x_test, y_test, cv=5)\n",
    "cvG10 = cross_val_score(nbtrain, x_test, y_test, cv=10)\n",
    "\n",
    "cvB5 = cross_val_score(nbtrain_B, x_test, y_test, cv=5)\n",
    "cvB10 = cross_val_score(nbtrain_B, x_test, y_test, cv=10)\n",
    "\n",
    "cvM5 = cross_val_score(nbtrain_C, x_test, y_test, cv=5)\n",
    "cvM10 = cross_val_score(nbtrain_C, x_test, y_test, cv=10)\n",
    "\n",
    "cvC5 = cross_val_score(nbtrain_D, x_test, y_test, cv=5)\n",
    "cvC10 = cross_val_score(nbtrain_D, x_test, y_test, cv=10)\n",
    "\n",
    "\n",
    "print(\"=================Gaussian=======================\")\n",
    "print(\"K=5 \",cvG5, \"avg = \", cvG5.mean())\n",
    "print(\"K=10 \",cvG10,\"avg = \", cvG10.mean() )\n",
    "print(\"=================Bernoulli=======================\")\n",
    "print(\"K=5 \",cvB5, \"avg = \", cvB5.mean())\n",
    "print(\"K=10 \",cvB10, \"avg = \", cvG5.mean())\n",
    "print(\"=================Multinomial=======================\")\n",
    "print(\"K=5 \",cvM5, \"avg = \", cvM5.mean())\n",
    "print(\"K=10 \",cvM10, \"avg = \", cvM5.mean())\n",
    "print(\"=================Complement=======================\")\n",
    "print(\"K=5 \",cvC5, \"avg = \", cvC5.mean())\n",
    "print(\"K=10 \",cvC10, \"avg = \", cvC5.mean())\n"
   ]
  },
  {
   "cell_type": "code",
   "execution_count": 12,
   "metadata": {},
   "outputs": [
    {
     "name": "stdout",
     "output_type": "stream",
     "text": [
      "===============classification report============\n",
      "              precision    recall  f1-score   support\n",
      "\n",
      "           0       0.67      0.90      0.77       252\n",
      "           1       0.62      0.27      0.38       151\n",
      "\n",
      "    accuracy                           0.67       403\n",
      "   macro avg       0.65      0.59      0.57       403\n",
      "weighted avg       0.65      0.67      0.62       403\n",
      "\n"
     ]
    }
   ],
   "source": [
    "from sklearn.metrics import classification_report\n",
    "print(\"===============classification report============\")\n",
    "print(classification_report(y_test, y_pred))"
   ]
  },
  {
   "cell_type": "code",
   "execution_count": 14,
   "metadata": {},
   "outputs": [
    {
     "name": "stdout",
     "output_type": "stream",
     "text": [
      "===============classification report============\n",
      "              precision    recall  f1-score   support\n",
      "\n",
      "           0       0.63      1.00      0.77       252\n",
      "           1       0.00      0.00      0.00       151\n",
      "\n",
      "    accuracy                           0.63       403\n",
      "   macro avg       0.31      0.50      0.38       403\n",
      "weighted avg       0.39      0.63      0.48       403\n",
      "\n"
     ]
    }
   ],
   "source": [
    "from sklearn.metrics import classification_report\n",
    "print(\"===============classification report============\")\n",
    "print(classification_report(y_test, y_predB))"
   ]
  },
  {
   "cell_type": "code",
   "execution_count": 17,
   "metadata": {},
   "outputs": [
    {
     "data": {
      "image/png": "[encoded data removed]",
      "text/plain": [
       "<Figure size 360x288 with 2 Axes>"
      ]
     },
     "metadata": {
      "needs_background": "light"
     },
     "output_type": "display_data"
    },
    {
     "name": "stdout",
     "output_type": "stream",
     "text": [
      "\n"
     ]
    }
   ],
   "source": [
    "from sklearn.metrics import confusion_matrix\n",
    "import matplotlib.pyplot as plt\n",
    "import seaborn as sns\n",
    "import numpy as np\n",
    "conf_mat = confusion_matrix(y_test, y_pred)\n",
    "# plot the confusion matrix\n",
    "f,ax = plt.subplots(figsize=(5, 4))\n",
    "sns.heatmap(conf_mat, annot=True, linewidths=0.01,cmap=\"YlGnBu\",linecolor=\"gray\", fmt= '.1f',ax=ax)\n",
    "plt.ylabel(\"Predicted Label\", fontsize='large', fontweight='bold')\n",
    "plt.xlabel(\"True Label\", fontsize='large', fontweight='bold')\n",
    "plt.title(\"Confusion Matrix Gaussian NB\", fontsize='large', fontweight='bold')\n",
    "plt.show()\n",
    "print()"
   ]
  },
  {
   "cell_type": "code",
   "execution_count": 16,
   "metadata": {},
   "outputs": [
    {
     "data": {
      "image/png": "[encoded data removed]",
      "text/plain": [
       "<Figure size 360x288 with 2 Axes>"
      ]
     },
     "metadata": {
      "needs_background": "light"
     },
     "output_type": "display_data"
    },
    {
     "name": "stdout",
     "output_type": "stream",
     "text": [
      "\n"
     ]
    }
   ],
   "source": [
    "conf_mat2 = confusion_matrix(y_test, y_predB)\n",
    "# plot the confusion matrix\n",
    "f,ax = plt.subplots(figsize=(5, 4))\n",
    "sns.heatmap(conf_mat2, annot=True, linewidths=0.01,cmap=\"YlGnBu\",linecolor=\"gray\", fmt= '.1f',ax=ax)\n",
    "plt.ylabel(\"Predicted Label\", fontsize='large', fontweight='bold')\n",
    "plt.xlabel(\"True Label\", fontsize='large', fontweight='bold')\n",
    "plt.title(\"Confusion Matrix Bernoulli NB\", fontsize='large', fontweight='bold')\n",
    "plt.show()\n",
    "print()"
   ]
  },
  {
   "cell_type": "code",
   "execution_count": null,
   "metadata": {},
   "outputs": [],
   "source": []
  }
 ],
 "metadata": {
  "kernelspec": {
   "display_name": "Python 3",
   "language": "python",
   "name": "python3"
  },
  "language_info": {
   "codemirror_mode": {
    "name": "ipython",
    "version": 3
   },
   "file_extension": ".py",
   "mimetype": "text/x-python",
   "name": "python",
   "nbconvert_exporter": "python",
   "pygments_lexer": "ipython3",
   "version": "3.8.5"
  }
 },
 "nbformat": 4,
 "nbformat_minor": 4
}
