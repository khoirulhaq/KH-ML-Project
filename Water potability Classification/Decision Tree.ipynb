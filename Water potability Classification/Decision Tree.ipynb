{
 "cells": [
  {
   "cell_type": "code",
   "execution_count": 2,
   "metadata": {},
   "outputs": [
    {
     "name": "stdout",
     "output_type": "stream",
     "text": [
      "C:\\Users\\khoirul haq\\anaconda3\\python.exe\n",
      "3.8.5 (default, Sep  3 2020, 21:29:08) [MSC v.1916 64 bit (AMD64)]\n",
      "sys.version_info(major=3, minor=8, micro=5, releaselevel='final', serial=0)\n"
     ]
    }
   ],
   "source": [
    "import sys\n",
    "print(sys.executable)\n",
    "print(sys.version)\n",
    "print(sys.version_info)"
   ]
  },
  {
   "cell_type": "code",
   "execution_count": 3,
   "metadata": {},
   "outputs": [
    {
     "name": "stdout",
     "output_type": "stream",
     "text": [
      "      index         ph    Hardness        Solids  Chloramines     Sulfate  \\\n",
      "2006   3267   8.989900  215.047358  15921.412018     6.297312  312.931022   \n",
      "2007   3268   6.702547  207.321086  17246.920347     7.708117  304.510230   \n",
      "2008   3269  11.491011   94.812545  37188.826022     9.263166  258.930600   \n",
      "2009   3270   6.069616  186.659040  26138.780191     7.747547  345.700257   \n",
      "2010   3271   4.668102  193.681735  47580.991603     7.166639  359.948574   \n",
      "\n",
      "      Conductivity  Organic_carbon  Trihalomethanes  Turbidity  Potability  \n",
      "2006    390.410231        9.899115        55.069304   4.613843           1  \n",
      "2007    329.266002       16.217303        28.878601   3.442983           1  \n",
      "2008    439.893618       16.172755        41.558501   4.369264           1  \n",
      "2009    415.886955       12.067620        60.419921   3.669712           1  \n",
      "2010    526.424171       13.894419        66.687695   4.435821           1  \n",
      "index              0\n",
      "ph                 0\n",
      "Hardness           0\n",
      "Solids             0\n",
      "Chloramines        0\n",
      "Sulfate            0\n",
      "Conductivity       0\n",
      "Organic_carbon     0\n",
      "Trihalomethanes    0\n",
      "Turbidity          0\n",
      "Potability         0\n",
      "dtype: int64\n"
     ]
    }
   ],
   "source": [
    "# Load libraries\n",
    "import pandas as pd\n",
    "from sklearn.tree import DecisionTreeClassifier # Import Decision Tree Classifier\n",
    "from sklearn.model_selection import train_test_split # Import train_test_split function\n",
    "from sklearn import metrics\n",
    "from sklearn.model_selection import cross_val_score\n",
    "#Import scikit-learn metrics module for accuracy calculation\n",
    "#from sklearn import datasets\n",
    " \n",
    "# membaca file \n",
    "data = pd.read_csv(\"F:/7_Semester/Machine Learning/projek/water_potability_clean.csv\")\n",
    "print(data.tail())\n",
    "print(data.isnull().sum())"
   ]
  },
  {
   "cell_type": "code",
   "execution_count": 4,
   "metadata": {},
   "outputs": [],
   "source": [
    "# Variabel independen\n",
    "X = data.drop([\"Potability\"], axis = 1)\n",
    "# Variabel dependen\n",
    "Y = data[\"Potability\"]\n",
    "# Split dataset into training set and test set\n",
    "from sklearn.model_selection import train_test_split\n",
    "X_train, X_test, y_train, y_test = train_test_split(X, Y, test_size=0.25, random_state=0) # 70% training and 30% test"
   ]
  },
  {
   "cell_type": "code",
   "execution_count": 5,
   "metadata": {},
   "outputs": [],
   "source": [
    "# Create Decision Tree classifer object\n",
    "clf = DecisionTreeClassifier()\n",
    "\n",
    "# Train Decision Tree Classifer\n",
    "clf = clf.fit(X_train,y_train)\n",
    "\n",
    "#Predict the response for test dataset\n",
    "y_pred = clf.predict(X_test)"
   ]
  },
  {
   "cell_type": "code",
   "execution_count": 6,
   "metadata": {},
   "outputs": [
    {
     "name": "stdout",
     "output_type": "stream",
     "text": [
      "[0.96039604 0.96039604 0.99009901 0.99       0.94      ] [0.98039216 0.96078431 0.98039216 0.94       1.         1.\n",
      " 0.96       1.         0.96       0.96      ]\n"
     ]
    }
   ],
   "source": [
    "scores5 = cross_val_score(clf, X_test, y_test, cv=5)\n",
    "scores10 = cross_val_score(clf, X_test, y_test, cv=10)\n",
    "print(scores5 , scores10)"
   ]
  },
  {
   "cell_type": "code",
   "execution_count": 7,
   "metadata": {},
   "outputs": [
    {
     "name": "stdout",
     "output_type": "stream",
     "text": [
      "===============classification report============\n",
      "              precision    recall  f1-score   support\n",
      "\n",
      "           0       0.99      1.00      1.00       309\n",
      "           1       0.99      0.99      0.99       194\n",
      "\n",
      "    accuracy                           0.99       503\n",
      "   macro avg       0.99      0.99      0.99       503\n",
      "weighted avg       0.99      0.99      0.99       503\n",
      "\n"
     ]
    }
   ],
   "source": [
    "from sklearn.metrics import classification_report\n",
    "print(\"===============classification report============\")\n",
    "print(classification_report(y_test, y_pred))"
   ]
  },
  {
   "cell_type": "code",
   "execution_count": 10,
   "metadata": {},
   "outputs": [
    {
     "data": {
      "image/png": "[encoded data removed]",
      "text/plain": [
       "<Figure size 360x288 with 2 Axes>"
      ]
     },
     "metadata": {
      "needs_background": "light"
     },
     "output_type": "display_data"
    },
    {
     "name": "stdout",
     "output_type": "stream",
     "text": [
      "\n"
     ]
    }
   ],
   "source": [
    "from sklearn.metrics import confusion_matrix\n",
    "import matplotlib.pyplot as plt\n",
    "import seaborn as sns\n",
    "import numpy as np\n",
    "conf_mat = confusion_matrix(y_test, y_pred)\n",
    "# plot the confusion matrix\n",
    "f,ax = plt.subplots(figsize=(5, 4))\n",
    "sns.heatmap(conf_mat, annot=True, linewidths=0.01,cmap=\"YlGnBu\",linecolor=\"gray\", fmt= '.1f',ax=ax)\n",
    "plt.ylabel(\"Predicted Label\", fontsize='large', fontweight='bold')\n",
    "plt.xlabel(\"True Label\", fontsize='large', fontweight='bold')\n",
    "plt.title(\"Confusion Matrix Gaussian NB\", fontsize='large', fontweight='bold')\n",
    "plt.show()\n",
    "print()"
   ]
  },
  {
   "cell_type": "code",
   "execution_count": null,
   "metadata": {},
   "outputs": [],
   "source": []
  }
 ],
 "metadata": {
  "kernelspec": {
   "display_name": "Python 3",
   "language": "python",
   "name": "python3"
  },
  "language_info": {
   "codemirror_mode": {
    "name": "ipython",
    "version": 3
   },
   "file_extension": ".py",
   "mimetype": "text/x-python",
   "name": "python",
   "nbconvert_exporter": "python",
   "pygments_lexer": "ipython3",
   "version": "3.8.5"
  }
 },
 "nbformat": 4,
 "nbformat_minor": 4
}
