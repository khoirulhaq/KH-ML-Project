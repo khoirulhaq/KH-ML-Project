{
 "cells": [
  {
   "cell_type": "markdown",
   "metadata": {},
   "source": [
    "## Average Grain Size Estimation Using Convolutional Neural Network\n",
    "## Muhammad I'tikafi Khoirul Haq (140710180030)\n",
    "## Fauzian Dwi Ramadhan (140710180025)\n",
    "## Fatimah Az-Zahra (140710180021)"
   ]
  },
  {
   "cell_type": "markdown",
   "metadata": {},
   "source": [
    "## Link Dataset: https://drive.google.com/drive/u/0/folders/1gPwVCFSObajKA555Zf7FuN6WAEfgo6l-"
   ]
  },
  {
   "cell_type": "markdown",
   "metadata": {},
   "source": [
    "### Import Library"
   ]
  },
  {
   "cell_type": "code",
   "execution_count": 10,
   "metadata": {},
   "outputs": [],
   "source": [
    "import numpy as np\n",
    "import pandas as pd\n",
    "from pathlib import Path\n",
    "import os.path\n",
    "import matplotlib.pyplot as plt\n",
    "from sklearn.model_selection import train_test_split\n",
    "import time\n",
    "import tensorflow as tf\n",
    "\n",
    "from sklearn.metrics import r2_score"
   ]
  },
  {
   "cell_type": "markdown",
   "metadata": {},
   "source": [
    "### Load CSV berisi nama file dataset"
   ]
  },
  {
   "cell_type": "code",
   "execution_count": 11,
   "metadata": {},
   "outputs": [],
   "source": [
    "dataset = pd.read_csv('grain2d.csv')"
   ]
  },
  {
   "cell_type": "markdown",
   "metadata": {},
   "source": [
    "### Membagi Dataset\n",
    "80% untuk training (20% untuk validasi)\n",
    "20% untuk testing"
   ]
  },
  {
   "cell_type": "code",
   "execution_count": 12,
   "metadata": {},
   "outputs": [],
   "source": [
    "train_df, test_df = train_test_split(dataset, train_size=0.8, shuffle=True, random_state=1)\n",
    "train_generator = tf.keras.preprocessing.image.ImageDataGenerator(\n",
    "    rescale=1./255,\n",
    "    validation_split=0.2\n",
    ")\n",
    "\n",
    "test_generator = tf.keras.preprocessing.image.ImageDataGenerator(\n",
    "    rescale=1./255\n",
    ")\n"
   ]
  },
  {
   "cell_type": "code",
   "execution_count": null,
   "metadata": {},
   "outputs": [],
   "source": []
  },
  {
   "cell_type": "markdown",
   "metadata": {},
   "source": [
    "## Load Dataset"
   ]
  },
  {
   "cell_type": "code",
   "execution_count": 4,
   "metadata": {},
   "outputs": [
    {
     "name": "stdout",
     "output_type": "stream",
     "text": [
      "Found 640 validated image filenames.\n",
      "Found 160 validated image filenames.\n",
      "Found 200 validated image filenames.\n"
     ]
    }
   ],
   "source": [
    "train_images = train_generator.flow_from_dataframe(\n",
    "    dataframe=train_df,\n",
    "    x_col='filepath',\n",
    "    y_col='nilai',\n",
    "    target_size=(128, 128),\n",
    "    color_mode='rgb',\n",
    "    class_mode='raw',\n",
    "    batch_size=32,\n",
    "    shuffle=True,\n",
    "    seed=42,\n",
    "    subset='training'\n",
    ")\n",
    "\n",
    "val_images = train_generator.flow_from_dataframe(\n",
    "    dataframe=train_df,\n",
    "    x_col='filepath',\n",
    "    y_col='nilai',\n",
    "    target_size=(128, 128),\n",
    "    color_mode='rgb',\n",
    "    class_mode='raw',\n",
    "    batch_size=32,\n",
    "    shuffle=True,\n",
    "    seed=42,\n",
    "    subset='validation'\n",
    ")\n",
    "\n",
    "test_images = test_generator.flow_from_dataframe(\n",
    "    dataframe=test_df,\n",
    "    x_col='filepath',\n",
    "    y_col='nilai',\n",
    "    target_size=(128, 128),\n",
    "    color_mode='rgb',\n",
    "    class_mode='raw',\n",
    "    batch_size=32,\n",
    "    shuffle=False\n",
    ")"
   ]
  },
  {
   "cell_type": "code",
   "execution_count": 5,
   "metadata": {},
   "outputs": [
    {
     "name": "stdout",
     "output_type": "stream",
     "text": [
      "<class 'keras.preprocessing.image.DataFrameIterator'>\n"
     ]
    }
   ],
   "source": [
    "print(type(test_images))"
   ]
  },
  {
   "cell_type": "markdown",
   "metadata": {},
   "source": [
    "## Training"
   ]
  },
  {
   "cell_type": "code",
   "execution_count": 21,
   "metadata": {},
   "outputs": [
    {
     "name": "stdout",
     "output_type": "stream",
     "text": [
      "Model: \"model_3\"\n",
      "_________________________________________________________________\n",
      "Layer (type)                 Output Shape              Param #   \n",
      "=================================================================\n",
      "input_5 (InputLayer)         [(None, 128, 128, 3)]     0         \n",
      "_________________________________________________________________\n",
      "conv2d_12 (Conv2D)           (None, 126, 126, 64)      1792      \n",
      "_________________________________________________________________\n",
      "max_pooling2d_12 (MaxPooling (None, 63, 63, 64)        0         \n",
      "_________________________________________________________________\n",
      "conv2d_13 (Conv2D)           (None, 62, 62, 64)        16448     \n",
      "_________________________________________________________________\n",
      "max_pooling2d_13 (MaxPooling (None, 31, 31, 64)        0         \n",
      "_________________________________________________________________\n",
      "conv2d_14 (Conv2D)           (None, 30, 30, 128)       32896     \n",
      "_________________________________________________________________\n",
      "max_pooling2d_14 (MaxPooling (None, 15, 15, 128)       0         \n",
      "_________________________________________________________________\n",
      "global_average_pooling2d_4 ( (None, 128)               0         \n",
      "_________________________________________________________________\n",
      "dense_8 (Dense)              (None, 64)                8256      \n",
      "_________________________________________________________________\n",
      "dense_9 (Dense)              (None, 64)                4160      \n",
      "_________________________________________________________________\n",
      "dense_10 (Dense)             (None, 1)                 65        \n",
      "=================================================================\n",
      "Total params: 63,617\n",
      "Trainable params: 63,617\n",
      "Non-trainable params: 0\n",
      "_________________________________________________________________\n",
      "None\n"
     ]
    }
   ],
   "source": [
    "## Pengaturan Hyperparameter untuk Model 5\n",
    "inputs = tf.keras.Input(shape=(128, 128, 3))\n",
    "## Pengaturan Hyperparameter untuk Model 5\n",
    "x = tf.keras.layers.Conv2D(filters=64, kernel_size=(3, 3), activation='relu')(inputs)\n",
    "x = tf.keras.layers.MaxPool2D()(x)\n",
    "x = tf.keras.layers.Conv2D(filters=64, kernel_size=(2, 2), activation='relu')(x)\n",
    "x = tf.keras.layers.MaxPool2D()(x)\n",
    "x = tf.keras.layers.Conv2D(filters=128, kernel_size=(2, 2), activation='relu')(x)\n",
    "x = tf.keras.layers.MaxPool2D()(x)\n",
    "x = tf.keras.layers.GlobalAveragePooling2D()(x)\n",
    "x = tf.keras.layers.Dense(64, activation='relu')(x)\n",
    "x = tf.keras.layers.Dense(64, activation='relu')(x)\n",
    "outputs = tf.keras.layers.Dense(1)(x)\n",
    "\n",
    "model = tf.keras.Model(inputs=inputs, outputs=outputs)\n",
    "print(model.summary())"
   ]
  },
  {
   "cell_type": "code",
   "execution_count": 22,
   "metadata": {},
   "outputs": [
    {
     "name": "stdout",
     "output_type": "stream",
     "text": [
      "Epoch 1/100\n",
      "20/20 [==============================] - 41s 2s/step - loss: 1437.3157 - val_loss: 86.2235\n",
      "Epoch 2/100\n",
      "20/20 [==============================] - 48s 2s/step - loss: 187.5683 - val_loss: 84.0385\n",
      "Epoch 3/100\n",
      "20/20 [==============================] - 54s 3s/step - loss: 109.7431 - val_loss: 84.8204\n",
      "Epoch 4/100\n",
      "20/20 [==============================] - 49s 2s/step - loss: 103.1487 - val_loss: 93.5232\n",
      "Epoch 5/100\n",
      "20/20 [==============================] - 35s 2s/step - loss: 99.8237 - val_loss: 81.5347\n",
      "Epoch 6/100\n",
      "20/20 [==============================] - 35s 2s/step - loss: 95.2550 - val_loss: 80.6070\n",
      "Epoch 7/100\n",
      "20/20 [==============================] - 38s 2s/step - loss: 97.4982 - val_loss: 82.1768\n",
      "Epoch 8/100\n",
      "20/20 [==============================] - 41s 2s/step - loss: 95.4501 - val_loss: 78.1753\n",
      "Epoch 9/100\n",
      "20/20 [==============================] - 36s 2s/step - loss: 92.1468 - val_loss: 79.3375\n",
      "Epoch 10/100\n",
      "20/20 [==============================] - 41s 2s/step - loss: 89.9053 - val_loss: 78.0903\n",
      "Epoch 11/100\n",
      "20/20 [==============================] - 63s 3s/step - loss: 89.0531 - val_loss: 73.6197\n",
      "Epoch 12/100\n",
      "20/20 [==============================] - 53s 3s/step - loss: 85.4193 - val_loss: 71.5287\n",
      "Epoch 13/100\n",
      "20/20 [==============================] - 51s 2s/step - loss: 82.6586 - val_loss: 70.8681\n",
      "Epoch 14/100\n",
      "20/20 [==============================] - 42s 2s/step - loss: 79.2355 - val_loss: 68.8382\n",
      "Epoch 15/100\n",
      "20/20 [==============================] - 35s 2s/step - loss: 75.3332 - val_loss: 65.6789\n",
      "Epoch 16/100\n",
      "20/20 [==============================] - 35s 2s/step - loss: 72.2730 - val_loss: 60.4902\n",
      "Epoch 17/100\n",
      "20/20 [==============================] - 35s 2s/step - loss: 68.4646 - val_loss: 58.0073\n",
      "Epoch 18/100\n",
      "20/20 [==============================] - 35s 2s/step - loss: 63.4993 - val_loss: 61.2030\n",
      "Epoch 19/100\n",
      "20/20 [==============================] - 35s 2s/step - loss: 62.7633 - val_loss: 52.8848\n",
      "Epoch 20/100\n",
      "20/20 [==============================] - 41s 2s/step - loss: 58.3961 - val_loss: 51.3678\n",
      "Epoch 21/100\n",
      "20/20 [==============================] - 40s 2s/step - loss: 56.3694 - val_loss: 49.3750\n",
      "Epoch 22/100\n",
      "20/20 [==============================] - 35s 2s/step - loss: 59.7780 - val_loss: 49.8821\n",
      "Epoch 23/100\n",
      "20/20 [==============================] - 36s 2s/step - loss: 54.3436 - val_loss: 48.4011\n",
      "Epoch 24/100\n",
      "20/20 [==============================] - 36s 2s/step - loss: 53.8288 - val_loss: 48.3594\n",
      "Epoch 25/100\n",
      "20/20 [==============================] - 37s 2s/step - loss: 53.3103 - val_loss: 49.7193\n",
      "Epoch 26/100\n",
      "20/20 [==============================] - 35s 2s/step - loss: 56.2321 - val_loss: 48.3806\n",
      "Epoch 27/100\n",
      "20/20 [==============================] - 36s 2s/step - loss: 52.4209 - val_loss: 49.8895\n",
      "Epoch 28/100\n",
      "20/20 [==============================] - 35s 2s/step - loss: 54.8176 - val_loss: 49.9898\n",
      "Epoch 29/100\n",
      "20/20 [==============================] - 35s 2s/step - loss: 51.5375 - val_loss: 47.6793\n",
      "Epoch 30/100\n",
      "20/20 [==============================] - 35s 2s/step - loss: 51.4711 - val_loss: 46.0788\n",
      "Epoch 31/100\n",
      "20/20 [==============================] - 35s 2s/step - loss: 50.7616 - val_loss: 47.5048\n",
      "Epoch 32/100\n",
      "20/20 [==============================] - 35s 2s/step - loss: 52.5106 - val_loss: 48.3262\n",
      "Epoch 33/100\n",
      "20/20 [==============================] - 35s 2s/step - loss: 55.9304 - val_loss: 45.4808\n",
      "Epoch 34/100\n",
      "20/20 [==============================] - 35s 2s/step - loss: 52.0759 - val_loss: 45.1676\n",
      "Epoch 35/100\n",
      "20/20 [==============================] - 35s 2s/step - loss: 50.6683 - val_loss: 44.9988\n",
      "Epoch 36/100\n",
      "20/20 [==============================] - 35s 2s/step - loss: 52.1405 - val_loss: 46.4820\n",
      "Epoch 37/100\n",
      "20/20 [==============================] - 35s 2s/step - loss: 50.4185 - val_loss: 45.4599\n",
      "Epoch 38/100\n",
      "20/20 [==============================] - 35s 2s/step - loss: 49.6254 - val_loss: 44.1459\n",
      "Epoch 39/100\n",
      "20/20 [==============================] - 35s 2s/step - loss: 49.8355 - val_loss: 46.3527\n",
      "Epoch 40/100\n",
      "20/20 [==============================] - 35s 2s/step - loss: 50.9002 - val_loss: 45.7450\n",
      "Epoch 41/100\n",
      "20/20 [==============================] - 40s 2s/step - loss: 50.3230 - val_loss: 63.7628\n",
      "Epoch 42/100\n",
      "20/20 [==============================] - 35s 2s/step - loss: 60.4477 - val_loss: 54.7131\n",
      "Epoch 43/100\n",
      "20/20 [==============================] - 35s 2s/step - loss: 51.8890 - val_loss: 43.9952\n",
      "Epoch 44/100\n",
      "20/20 [==============================] - 35s 2s/step - loss: 47.6796 - val_loss: 45.0556\n",
      "Epoch 45/100\n",
      "20/20 [==============================] - 37s 2s/step - loss: 49.3100 - val_loss: 43.2401\n",
      "Epoch 46/100\n",
      "20/20 [==============================] - 35s 2s/step - loss: 47.6811 - val_loss: 41.9018\n",
      "Epoch 47/100\n",
      "20/20 [==============================] - 35s 2s/step - loss: 45.3897 - val_loss: 41.5459\n",
      "Epoch 48/100\n",
      "20/20 [==============================] - 35s 2s/step - loss: 51.1022 - val_loss: 48.8168\n",
      "Epoch 49/100\n",
      "20/20 [==============================] - 35s 2s/step - loss: 47.6090 - val_loss: 40.7353\n",
      "Epoch 50/100\n",
      "20/20 [==============================] - 35s 2s/step - loss: 44.6226 - val_loss: 39.2974\n",
      "Epoch 51/100\n",
      "20/20 [==============================] - 35s 2s/step - loss: 45.1561 - val_loss: 40.0568\n",
      "Epoch 52/100\n",
      "20/20 [==============================] - 35s 2s/step - loss: 42.0783 - val_loss: 38.3850\n",
      "Epoch 53/100\n",
      "20/20 [==============================] - 37s 2s/step - loss: 42.0401 - val_loss: 38.2813\n",
      "Epoch 54/100\n",
      "20/20 [==============================] - 35s 2s/step - loss: 39.3928 - val_loss: 37.9896\n",
      "Epoch 55/100\n",
      "20/20 [==============================] - 35s 2s/step - loss: 40.6442 - val_loss: 45.9268\n",
      "Epoch 56/100\n",
      "20/20 [==============================] - 35s 2s/step - loss: 40.6764 - val_loss: 33.9158\n",
      "Epoch 57/100\n",
      "20/20 [==============================] - 35s 2s/step - loss: 35.3298 - val_loss: 32.8381\n",
      "Epoch 58/100\n",
      "20/20 [==============================] - 35s 2s/step - loss: 35.9400 - val_loss: 30.4605\n",
      "Epoch 59/100\n",
      "20/20 [==============================] - 33s 2s/step - loss: 32.5379 - val_loss: 30.4716\n",
      "Epoch 60/100\n",
      "20/20 [==============================] - 34s 2s/step - loss: 30.1825 - val_loss: 27.1115\n",
      "Epoch 61/100\n",
      "20/20 [==============================] - 35s 2s/step - loss: 28.1203 - val_loss: 26.6463\n",
      "Epoch 62/100\n",
      "20/20 [==============================] - 35s 2s/step - loss: 27.0669 - val_loss: 25.5928\n",
      "Epoch 63/100\n",
      "20/20 [==============================] - 35s 2s/step - loss: 27.1205 - val_loss: 25.0631\n",
      "Epoch 64/100\n",
      "20/20 [==============================] - 35s 2s/step - loss: 28.3658 - val_loss: 37.6094\n",
      "Epoch 65/100\n",
      "20/20 [==============================] - 34s 2s/step - loss: 26.8979 - val_loss: 24.6941\n",
      "Epoch 66/100\n",
      "20/20 [==============================] - 35s 2s/step - loss: 32.7116 - val_loss: 35.7755\n",
      "Epoch 67/100\n",
      "20/20 [==============================] - 35s 2s/step - loss: 29.0847 - val_loss: 27.4187\n",
      "Epoch 68/100\n",
      "20/20 [==============================] - 35s 2s/step - loss: 29.1004 - val_loss: 25.3033\n",
      "Epoch 69/100\n",
      "20/20 [==============================] - 35s 2s/step - loss: 25.6952 - val_loss: 25.0924\n",
      "Epoch 70/100\n",
      "20/20 [==============================] - 35s 2s/step - loss: 24.8621 - val_loss: 24.5140\n",
      "Epoch 71/100\n",
      "20/20 [==============================] - 35s 2s/step - loss: 28.0961 - val_loss: 24.6894\n",
      "Epoch 72/100\n",
      "20/20 [==============================] - 34s 2s/step - loss: 30.1643 - val_loss: 41.8710\n",
      "Epoch 73/100\n",
      "20/20 [==============================] - 34s 2s/step - loss: 29.3756 - val_loss: 26.0051\n",
      "Epoch 74/100\n",
      "20/20 [==============================] - 35s 2s/step - loss: 24.6451 - val_loss: 31.0056\n",
      "Epoch 75/100\n",
      "20/20 [==============================] - 35s 2s/step - loss: 28.7279 - val_loss: 25.4463\n"
     ]
    }
   ],
   "source": [
    "start_time = time.process_time()\n",
    "model.compile(\n",
    "    optimizer='adam',\n",
    "    loss='mse'\n",
    ")\n",
    "\n",
    "history = model.fit(\n",
    "    train_images,\n",
    "    validation_data=val_images,\n",
    "    epochs=100,\n",
    "    callbacks=[\n",
    "        tf.keras.callbacks.EarlyStopping(\n",
    "            monitor='val_loss',\n",
    "            patience=5,\n",
    "            restore_best_weights=True\n",
    "        )\n",
    "    ]\n",
    ")\n",
    "end_time = time.process_time()"
   ]
  },
  {
   "cell_type": "markdown",
   "metadata": {},
   "source": [
    "### Menyimpan Model"
   ]
  },
  {
   "cell_type": "code",
   "execution_count": 23,
   "metadata": {},
   "outputs": [],
   "source": [
    "model.save('model/grain_model5.h5')"
   ]
  },
  {
   "cell_type": "markdown",
   "metadata": {},
   "source": [
    "### Menyimpan History Pelatihan"
   ]
  },
  {
   "cell_type": "code",
   "execution_count": 24,
   "metadata": {},
   "outputs": [
    {
     "name": "stdout",
     "output_type": "stream",
     "text": [
      "           loss   val_loss\n",
      "0   1437.315674  86.223549\n",
      "1    187.568253  84.038452\n",
      "2    109.743080  84.820389\n",
      "3    103.148666  93.523209\n",
      "4     99.823662  81.534691\n",
      "..          ...        ...\n",
      "70    28.096069  24.689367\n",
      "71    30.164318  41.870975\n",
      "72    29.375629  26.005056\n",
      "73    24.645060  31.005596\n",
      "74    28.727915  25.446320\n",
      "\n",
      "[75 rows x 2 columns]\n"
     ]
    }
   ],
   "source": [
    "df = pd.DataFrame(history.history, columns= history.history.keys())\n",
    "df.to_csv(r'fit_history/grain_hist5.csv', index = False, header=True)\n",
    "\n",
    "print (df)"
   ]
  },
  {
   "cell_type": "markdown",
   "metadata": {},
   "source": [
    "### Plot loss/Val_loss"
   ]
  },
  {
   "cell_type": "code",
   "execution_count": 25,
   "metadata": {},
   "outputs": [
    {
     "data": {
      "image/png": "[encoded data removed]",
      "text/plain": [
       "<Figure size 432x288 with 1 Axes>"
      ]
     },
     "metadata": {
      "needs_background": "light"
     },
     "output_type": "display_data"
    }
   ],
   "source": [
    "import matplotlib.pyplot as plt\n",
    "plt.plot(df['loss'], color='r', label=\"loss\")\n",
    "plt.plot(df['val_loss'], color='b', label=\"val_loss\")\n",
    "plt.title(\"Model 5\")\n",
    "plt.xlabel(\"Number of Epochs\")\n",
    "plt.grid()\n",
    "plt.legend()\n",
    "plt.show()"
   ]
  },
  {
   "cell_type": "markdown",
   "metadata": {},
   "source": [
    "### Menghitung nilai $R^2$"
   ]
  },
  {
   "cell_type": "code",
   "execution_count": 6,
   "metadata": {},
   "outputs": [],
   "source": [
    "from tensorflow.keras.models import load_model\n",
    "model = load_model('model/grain_model5.h5', compile = False)"
   ]
  },
  {
   "cell_type": "code",
   "execution_count": 7,
   "metadata": {},
   "outputs": [
    {
     "name": "stdout",
     "output_type": "stream",
     "text": [
      "<class 'numpy.ndarray'>\n"
     ]
    }
   ],
   "source": [
    "predicted_grain = np.squeeze(model.predict(test_images))\n",
    "print(type(predicted_grain))"
   ]
  },
  {
   "cell_type": "code",
   "execution_count": 13,
   "metadata": {},
   "outputs": [
    {
     "name": "stdout",
     "output_type": "stream",
     "text": [
      "(200, 1)\n",
      "(200,)\n",
      "[46.839825 39.889862 50.522636 48.19433  33.9812   49.13382  40.284805\n",
      " 47.324997 42.796898 42.715553 44.863716 40.602463 46.21978  38.94897\n",
      " 41.445515 48.013863 48.915245 44.60676  45.37529  46.10013  46.148277\n",
      " 44.94232  46.8862   40.669346 39.864822 39.80005  43.80522  48.03499\n",
      " 29.380905 33.511818 48.956795 42.457214 42.189682 44.97569  44.522804\n",
      " 43.218597 45.02867  43.639915 42.082172 45.46579  44.131927 40.805\n",
      " 41.48831  43.700928 40.908722 46.95898  42.187935 44.1902   44.04299\n",
      " 30.228971 36.743103 46.498337 36.83268  45.55864  45.83266  46.716625\n",
      " 45.089024 45.617355 41.856678 45.257828 40.071896 45.97426  43.330536\n",
      " 45.79332  45.599403 47.07389  42.871452 40.477425 42.02526  39.90061\n",
      " 48.34356  45.97379  48.19883  51.628494 43.761795 45.405792 44.896904\n",
      " 48.828102 41.274895 40.997063 47.05361  45.84381  34.44891  45.40657\n",
      " 46.913033 21.320217 40.443363 41.873905 38.481655 40.34858  48.58821\n",
      " 47.19879  43.214905 47.927208 41.95085  41.871468 43.689957 31.827217\n",
      " 49.37522  44.52371  41.6364   41.277737 42.471527 41.55574  46.71828\n",
      " 46.582615 36.23783  43.374886 42.402443 51.28409  47.789566 47.177444\n",
      " 44.55185  43.087044 49.087593 31.782843 49.218163 48.019287 46.833115\n",
      " 31.445747 47.628876 44.630264 43.927692 45.67437  40.919426 37.80365\n",
      " 26.75471  41.18718  43.59603  49.14261  41.55307  43.090908 44.449913\n",
      " 41.204605 30.926691 42.689438 47.919132 46.469597 43.226345 43.041878\n",
      " 46.887745 45.547    46.287178 41.93662  40.136417 44.823944 43.483864\n",
      " 50.038834 44.76361  41.830948 42.64432  37.924942 41.712944 32.68052\n",
      " 44.168068 38.30813  40.88586  35.39111  40.538315 44.711792 44.750397\n",
      " 45.539925 47.37436  47.66166  43.240936 39.209484 45.45414  41.701912\n",
      " 26.61876  43.062878 46.147198 40.431915 40.644222 44.039505 42.87977\n",
      " 35.55801  44.86976  45.672104 44.02226  44.844154 41.989624 44.254833\n",
      " 36.189842 44.508675 43.908928 45.096382 44.717155 36.007126 31.912699\n",
      " 31.443298 44.348907 40.61624  44.226578 31.42521  45.861748 43.709152\n",
      " 47.67705  38.61021  45.989586 45.03708 ]\n"
     ]
    }
   ],
   "source": [
    "predd = model.predict(test_images)\n",
    "print(predd.shape)\n",
    "print(predicted_grain.shape)\n",
    "print(predicted_grain)"
   ]
  },
  {
   "cell_type": "code",
   "execution_count": 29,
   "metadata": {},
   "outputs": [
    {
     "name": "stdout",
     "output_type": "stream",
     "text": [
      "Test R^2 Score: 0.49689\n"
     ]
    }
   ],
   "source": [
    "predicted_grain = np.squeeze(model.predict(test_images))\n",
    "true_grain = test_images.labels\n",
    "\n",
    "r2 = r2_score(true_grain, predicted_grain)\n",
    "print(\"Test R^2 Score: {:.5f}\".format(r2))"
   ]
  },
  {
   "cell_type": "markdown",
   "metadata": {},
   "source": [
    "### Menghitung Waktu Pelatihan"
   ]
  },
  {
   "cell_type": "code",
   "execution_count": 27,
   "metadata": {},
   "outputs": [
    {
     "name": "stdout",
     "output_type": "stream",
     "text": [
      "detik:  4626.96875\n",
      "menit:  77.11614583333333\n"
     ]
    }
   ],
   "source": [
    "waktu = end_time-start_time\n",
    "print(\"detik: \", waktu)\n",
    "print(\"menit: \",waktu/60)"
   ]
  },
  {
   "cell_type": "code",
   "execution_count": 28,
   "metadata": {},
   "outputs": [
    {
     "name": "stdout",
     "output_type": "stream",
     "text": [
      "2.6.0\n"
     ]
    }
   ],
   "source": [
    "print(tf.__version__)"
   ]
  }
 ],
 "metadata": {
  "kernelspec": {
   "display_name": "Python 3",
   "language": "python",
   "name": "python3"
  },
  "language_info": {
   "codemirror_mode": {
    "name": "ipython",
    "version": 3
   },
   "file_extension": ".py",
   "mimetype": "text/x-python",
   "name": "python",
   "nbconvert_exporter": "python",
   "pygments_lexer": "ipython3",
   "version": "3.8.5"
  }
 },
 "nbformat": 4,
 "nbformat_minor": 4
}
